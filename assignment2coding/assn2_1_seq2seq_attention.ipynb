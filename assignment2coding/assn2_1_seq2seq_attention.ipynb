{
  "cells": [
    {
      "cell_type": "markdown",
      "metadata": {
        "id": "RcTCTnG3p7Jo"
      },
      "source": [
        "# **Implementing sequence-to-sequence model with attention**\n",
        "- Please make sure you use GPU by setting the menu: Runtime > change runtime type > GPU"
      ]
    },
    {
      "cell_type": "markdown",
      "metadata": {
        "id": "rJI8tAK8p7Jq"
      },
      "source": [
        "## **Preparing Data**"
      ]
    },
    {
      "cell_type": "code",
      "execution_count": 1,
      "metadata": {
        "colab": {
          "base_uri": "https://localhost:8080/"
        },
        "id": "j8ufc1QZp7Jq",
        "outputId": "19a8821d-106d-49b4-f58c-a102ac0d52ce"
      },
      "outputs": [
        {
          "output_type": "stream",
          "name": "stdout",
          "text": [
            "Reading package lists... Done\n",
            "Building dependency tree... Done\n",
            "Reading state information... Done\n",
            "python3.7 is already the newest version (3.7.17-1+jammy1).\n",
            "0 upgraded, 0 newly installed, 0 to remove and 19 not upgraded.\n",
            "Requirement already satisfied: torchtext==0.6.0 in /usr/local/lib/python3.10/dist-packages (0.6.0)\n",
            "Requirement already satisfied: tqdm in /usr/local/lib/python3.10/dist-packages (from torchtext==0.6.0) (4.66.1)\n",
            "Requirement already satisfied: requests in /usr/local/lib/python3.10/dist-packages (from torchtext==0.6.0) (2.31.0)\n",
            "Requirement already satisfied: torch in /usr/local/lib/python3.10/dist-packages (from torchtext==0.6.0) (2.1.0+cu118)\n",
            "Requirement already satisfied: numpy in /usr/local/lib/python3.10/dist-packages (from torchtext==0.6.0) (1.23.5)\n",
            "Requirement already satisfied: six in /usr/local/lib/python3.10/dist-packages (from torchtext==0.6.0) (1.16.0)\n",
            "Requirement already satisfied: sentencepiece in /usr/local/lib/python3.10/dist-packages (from torchtext==0.6.0) (0.1.99)\n",
            "Requirement already satisfied: charset-normalizer<4,>=2 in /usr/local/lib/python3.10/dist-packages (from requests->torchtext==0.6.0) (3.3.2)\n",
            "Requirement already satisfied: idna<4,>=2.5 in /usr/local/lib/python3.10/dist-packages (from requests->torchtext==0.6.0) (3.4)\n",
            "Requirement already satisfied: urllib3<3,>=1.21.1 in /usr/local/lib/python3.10/dist-packages (from requests->torchtext==0.6.0) (2.0.7)\n",
            "Requirement already satisfied: certifi>=2017.4.17 in /usr/local/lib/python3.10/dist-packages (from requests->torchtext==0.6.0) (2023.7.22)\n",
            "Requirement already satisfied: filelock in /usr/local/lib/python3.10/dist-packages (from torch->torchtext==0.6.0) (3.13.1)\n",
            "Requirement already satisfied: typing-extensions in /usr/local/lib/python3.10/dist-packages (from torch->torchtext==0.6.0) (4.5.0)\n",
            "Requirement already satisfied: sympy in /usr/local/lib/python3.10/dist-packages (from torch->torchtext==0.6.0) (1.12)\n",
            "Requirement already satisfied: networkx in /usr/local/lib/python3.10/dist-packages (from torch->torchtext==0.6.0) (3.2.1)\n",
            "Requirement already satisfied: jinja2 in /usr/local/lib/python3.10/dist-packages (from torch->torchtext==0.6.0) (3.1.2)\n",
            "Requirement already satisfied: fsspec in /usr/local/lib/python3.10/dist-packages (from torch->torchtext==0.6.0) (2023.6.0)\n",
            "Requirement already satisfied: triton==2.1.0 in /usr/local/lib/python3.10/dist-packages (from torch->torchtext==0.6.0) (2.1.0)\n",
            "Requirement already satisfied: MarkupSafe>=2.0 in /usr/local/lib/python3.10/dist-packages (from jinja2->torch->torchtext==0.6.0) (2.1.3)\n",
            "Requirement already satisfied: mpmath>=0.19 in /usr/local/lib/python3.10/dist-packages (from sympy->torch->torchtext==0.6.0) (1.3.0)\n",
            "Requirement already satisfied: einops in /usr/local/lib/python3.10/dist-packages (0.7.0)\n",
            "2023-11-12 13:18:41.312218: E tensorflow/compiler/xla/stream_executor/cuda/cuda_dnn.cc:9342] Unable to register cuDNN factory: Attempting to register factory for plugin cuDNN when one has already been registered\n",
            "2023-11-12 13:18:41.312278: E tensorflow/compiler/xla/stream_executor/cuda/cuda_fft.cc:609] Unable to register cuFFT factory: Attempting to register factory for plugin cuFFT when one has already been registered\n",
            "2023-11-12 13:18:41.312321: E tensorflow/compiler/xla/stream_executor/cuda/cuda_blas.cc:1518] Unable to register cuBLAS factory: Attempting to register factory for plugin cuBLAS when one has already been registered\n",
            "2023-11-12 13:18:41.321196: I tensorflow/core/platform/cpu_feature_guard.cc:182] This TensorFlow binary is optimized to use available CPU instructions in performance-critical operations.\n",
            "To enable the following instructions: AVX2 FMA, in other operations, rebuild TensorFlow with the appropriate compiler flags.\n",
            "2023-11-12 13:18:42.489574: W tensorflow/compiler/tf2tensorrt/utils/py_utils.cc:38] TF-TRT Warning: Could not find TensorRT\n",
            "2023-11-12 13:18:44.034498: I tensorflow/compiler/xla/stream_executor/cuda/cuda_gpu_executor.cc:894] successful NUMA node read from SysFS had negative value (-1), but there must be at least one NUMA node, so returning NUMA node zero. See more at https://github.com/torvalds/linux/blob/v6.0/Documentation/ABI/testing/sysfs-bus-pci#L344-L355\n",
            "2023-11-12 13:18:44.034926: I tensorflow/compiler/xla/stream_executor/cuda/cuda_gpu_executor.cc:894] successful NUMA node read from SysFS had negative value (-1), but there must be at least one NUMA node, so returning NUMA node zero. See more at https://github.com/torvalds/linux/blob/v6.0/Documentation/ABI/testing/sysfs-bus-pci#L344-L355\n",
            "2023-11-12 13:18:44.035090: I tensorflow/compiler/xla/stream_executor/cuda/cuda_gpu_executor.cc:894] successful NUMA node read from SysFS had negative value (-1), but there must be at least one NUMA node, so returning NUMA node zero. See more at https://github.com/torvalds/linux/blob/v6.0/Documentation/ABI/testing/sysfs-bus-pci#L344-L355\n",
            "\u001b[38;5;3m⚠ As of spaCy v3.0, shortcuts like 'en' are deprecated. Please use the\n",
            "full pipeline package name 'en_core_web_sm' instead.\u001b[0m\n",
            "Collecting en-core-web-sm==3.6.0\n",
            "  Downloading https://github.com/explosion/spacy-models/releases/download/en_core_web_sm-3.6.0/en_core_web_sm-3.6.0-py3-none-any.whl (12.8 MB)\n",
            "\u001b[2K     \u001b[90m━━━━━━━━━━━━━━━━━━━━━━━━━━━━━━━━━━━━━━━━\u001b[0m \u001b[32m12.8/12.8 MB\u001b[0m \u001b[31m98.2 MB/s\u001b[0m eta \u001b[36m0:00:00\u001b[0m\n",
            "\u001b[?25hRequirement already satisfied: spacy<3.7.0,>=3.6.0 in /usr/local/lib/python3.10/dist-packages (from en-core-web-sm==3.6.0) (3.6.1)\n",
            "Requirement already satisfied: spacy-legacy<3.1.0,>=3.0.11 in /usr/local/lib/python3.10/dist-packages (from spacy<3.7.0,>=3.6.0->en-core-web-sm==3.6.0) (3.0.12)\n",
            "Requirement already satisfied: spacy-loggers<2.0.0,>=1.0.0 in /usr/local/lib/python3.10/dist-packages (from spacy<3.7.0,>=3.6.0->en-core-web-sm==3.6.0) (1.0.5)\n",
            "Requirement already satisfied: murmurhash<1.1.0,>=0.28.0 in /usr/local/lib/python3.10/dist-packages (from spacy<3.7.0,>=3.6.0->en-core-web-sm==3.6.0) (1.0.10)\n",
            "Requirement already satisfied: cymem<2.1.0,>=2.0.2 in /usr/local/lib/python3.10/dist-packages (from spacy<3.7.0,>=3.6.0->en-core-web-sm==3.6.0) (2.0.8)\n",
            "Requirement already satisfied: preshed<3.1.0,>=3.0.2 in /usr/local/lib/python3.10/dist-packages (from spacy<3.7.0,>=3.6.0->en-core-web-sm==3.6.0) (3.0.9)\n",
            "Requirement already satisfied: thinc<8.2.0,>=8.1.8 in /usr/local/lib/python3.10/dist-packages (from spacy<3.7.0,>=3.6.0->en-core-web-sm==3.6.0) (8.1.12)\n",
            "Requirement already satisfied: wasabi<1.2.0,>=0.9.1 in /usr/local/lib/python3.10/dist-packages (from spacy<3.7.0,>=3.6.0->en-core-web-sm==3.6.0) (1.1.2)\n",
            "Requirement already satisfied: srsly<3.0.0,>=2.4.3 in /usr/local/lib/python3.10/dist-packages (from spacy<3.7.0,>=3.6.0->en-core-web-sm==3.6.0) (2.4.8)\n",
            "Requirement already satisfied: catalogue<2.1.0,>=2.0.6 in /usr/local/lib/python3.10/dist-packages (from spacy<3.7.0,>=3.6.0->en-core-web-sm==3.6.0) (2.0.10)\n",
            "Requirement already satisfied: typer<0.10.0,>=0.3.0 in /usr/local/lib/python3.10/dist-packages (from spacy<3.7.0,>=3.6.0->en-core-web-sm==3.6.0) (0.9.0)\n",
            "Requirement already satisfied: pathy>=0.10.0 in /usr/local/lib/python3.10/dist-packages (from spacy<3.7.0,>=3.6.0->en-core-web-sm==3.6.0) (0.10.3)\n",
            "Requirement already satisfied: smart-open<7.0.0,>=5.2.1 in /usr/local/lib/python3.10/dist-packages (from spacy<3.7.0,>=3.6.0->en-core-web-sm==3.6.0) (6.4.0)\n",
            "Requirement already satisfied: tqdm<5.0.0,>=4.38.0 in /usr/local/lib/python3.10/dist-packages (from spacy<3.7.0,>=3.6.0->en-core-web-sm==3.6.0) (4.66.1)\n",
            "Requirement already satisfied: numpy>=1.15.0 in /usr/local/lib/python3.10/dist-packages (from spacy<3.7.0,>=3.6.0->en-core-web-sm==3.6.0) (1.23.5)\n",
            "Requirement already satisfied: requests<3.0.0,>=2.13.0 in /usr/local/lib/python3.10/dist-packages (from spacy<3.7.0,>=3.6.0->en-core-web-sm==3.6.0) (2.31.0)\n",
            "Requirement already satisfied: pydantic!=1.8,!=1.8.1,<3.0.0,>=1.7.4 in /usr/local/lib/python3.10/dist-packages (from spacy<3.7.0,>=3.6.0->en-core-web-sm==3.6.0) (1.10.13)\n",
            "Requirement already satisfied: jinja2 in /usr/local/lib/python3.10/dist-packages (from spacy<3.7.0,>=3.6.0->en-core-web-sm==3.6.0) (3.1.2)\n",
            "Requirement already satisfied: setuptools in /usr/local/lib/python3.10/dist-packages (from spacy<3.7.0,>=3.6.0->en-core-web-sm==3.6.0) (67.7.2)\n",
            "Requirement already satisfied: packaging>=20.0 in /usr/local/lib/python3.10/dist-packages (from spacy<3.7.0,>=3.6.0->en-core-web-sm==3.6.0) (23.2)\n",
            "Requirement already satisfied: langcodes<4.0.0,>=3.2.0 in /usr/local/lib/python3.10/dist-packages (from spacy<3.7.0,>=3.6.0->en-core-web-sm==3.6.0) (3.3.0)\n",
            "Requirement already satisfied: typing-extensions>=4.2.0 in /usr/local/lib/python3.10/dist-packages (from pydantic!=1.8,!=1.8.1,<3.0.0,>=1.7.4->spacy<3.7.0,>=3.6.0->en-core-web-sm==3.6.0) (4.5.0)\n",
            "Requirement already satisfied: charset-normalizer<4,>=2 in /usr/local/lib/python3.10/dist-packages (from requests<3.0.0,>=2.13.0->spacy<3.7.0,>=3.6.0->en-core-web-sm==3.6.0) (3.3.2)\n",
            "Requirement already satisfied: idna<4,>=2.5 in /usr/local/lib/python3.10/dist-packages (from requests<3.0.0,>=2.13.0->spacy<3.7.0,>=3.6.0->en-core-web-sm==3.6.0) (3.4)\n",
            "Requirement already satisfied: urllib3<3,>=1.21.1 in /usr/local/lib/python3.10/dist-packages (from requests<3.0.0,>=2.13.0->spacy<3.7.0,>=3.6.0->en-core-web-sm==3.6.0) (2.0.7)\n",
            "Requirement already satisfied: certifi>=2017.4.17 in /usr/local/lib/python3.10/dist-packages (from requests<3.0.0,>=2.13.0->spacy<3.7.0,>=3.6.0->en-core-web-sm==3.6.0) (2023.7.22)\n",
            "Requirement already satisfied: blis<0.8.0,>=0.7.8 in /usr/local/lib/python3.10/dist-packages (from thinc<8.2.0,>=8.1.8->spacy<3.7.0,>=3.6.0->en-core-web-sm==3.6.0) (0.7.11)\n",
            "Requirement already satisfied: confection<1.0.0,>=0.0.1 in /usr/local/lib/python3.10/dist-packages (from thinc<8.2.0,>=8.1.8->spacy<3.7.0,>=3.6.0->en-core-web-sm==3.6.0) (0.1.3)\n",
            "Requirement already satisfied: click<9.0.0,>=7.1.1 in /usr/local/lib/python3.10/dist-packages (from typer<0.10.0,>=0.3.0->spacy<3.7.0,>=3.6.0->en-core-web-sm==3.6.0) (8.1.7)\n",
            "Requirement already satisfied: MarkupSafe>=2.0 in /usr/local/lib/python3.10/dist-packages (from jinja2->spacy<3.7.0,>=3.6.0->en-core-web-sm==3.6.0) (2.1.3)\n",
            "\u001b[38;5;2m✔ Download and installation successful\u001b[0m\n",
            "You can now load the package via spacy.load('en_core_web_sm')\n",
            "2023-11-12 13:18:53.958525: E tensorflow/compiler/xla/stream_executor/cuda/cuda_dnn.cc:9342] Unable to register cuDNN factory: Attempting to register factory for plugin cuDNN when one has already been registered\n",
            "2023-11-12 13:18:53.958583: E tensorflow/compiler/xla/stream_executor/cuda/cuda_fft.cc:609] Unable to register cuFFT factory: Attempting to register factory for plugin cuFFT when one has already been registered\n",
            "2023-11-12 13:18:53.958626: E tensorflow/compiler/xla/stream_executor/cuda/cuda_blas.cc:1518] Unable to register cuBLAS factory: Attempting to register factory for plugin cuBLAS when one has already been registered\n",
            "2023-11-12 13:18:53.966306: I tensorflow/core/platform/cpu_feature_guard.cc:182] This TensorFlow binary is optimized to use available CPU instructions in performance-critical operations.\n",
            "To enable the following instructions: AVX2 FMA, in other operations, rebuild TensorFlow with the appropriate compiler flags.\n",
            "2023-11-12 13:18:55.124676: W tensorflow/compiler/tf2tensorrt/utils/py_utils.cc:38] TF-TRT Warning: Could not find TensorRT\n",
            "2023-11-12 13:18:56.615612: I tensorflow/compiler/xla/stream_executor/cuda/cuda_gpu_executor.cc:894] successful NUMA node read from SysFS had negative value (-1), but there must be at least one NUMA node, so returning NUMA node zero. See more at https://github.com/torvalds/linux/blob/v6.0/Documentation/ABI/testing/sysfs-bus-pci#L344-L355\n",
            "2023-11-12 13:18:56.616049: I tensorflow/compiler/xla/stream_executor/cuda/cuda_gpu_executor.cc:894] successful NUMA node read from SysFS had negative value (-1), but there must be at least one NUMA node, so returning NUMA node zero. See more at https://github.com/torvalds/linux/blob/v6.0/Documentation/ABI/testing/sysfs-bus-pci#L344-L355\n",
            "2023-11-12 13:18:56.616218: I tensorflow/compiler/xla/stream_executor/cuda/cuda_gpu_executor.cc:894] successful NUMA node read from SysFS had negative value (-1), but there must be at least one NUMA node, so returning NUMA node zero. See more at https://github.com/torvalds/linux/blob/v6.0/Documentation/ABI/testing/sysfs-bus-pci#L344-L355\n",
            "\u001b[38;5;3m⚠ As of spaCy v3.0, shortcuts like 'de' are deprecated. Please use the\n",
            "full pipeline package name 'de_core_news_sm' instead.\u001b[0m\n",
            "Collecting de-core-news-sm==3.6.0\n",
            "  Downloading https://github.com/explosion/spacy-models/releases/download/de_core_news_sm-3.6.0/de_core_news_sm-3.6.0-py3-none-any.whl (14.6 MB)\n",
            "\u001b[2K     \u001b[90m━━━━━━━━━━━━━━━━━━━━━━━━━━━━━━━━━━━━━━━━\u001b[0m \u001b[32m14.6/14.6 MB\u001b[0m \u001b[31m83.9 MB/s\u001b[0m eta \u001b[36m0:00:00\u001b[0m\n",
            "\u001b[?25hRequirement already satisfied: spacy<3.7.0,>=3.6.0 in /usr/local/lib/python3.10/dist-packages (from de-core-news-sm==3.6.0) (3.6.1)\n",
            "Requirement already satisfied: spacy-legacy<3.1.0,>=3.0.11 in /usr/local/lib/python3.10/dist-packages (from spacy<3.7.0,>=3.6.0->de-core-news-sm==3.6.0) (3.0.12)\n",
            "Requirement already satisfied: spacy-loggers<2.0.0,>=1.0.0 in /usr/local/lib/python3.10/dist-packages (from spacy<3.7.0,>=3.6.0->de-core-news-sm==3.6.0) (1.0.5)\n",
            "Requirement already satisfied: murmurhash<1.1.0,>=0.28.0 in /usr/local/lib/python3.10/dist-packages (from spacy<3.7.0,>=3.6.0->de-core-news-sm==3.6.0) (1.0.10)\n",
            "Requirement already satisfied: cymem<2.1.0,>=2.0.2 in /usr/local/lib/python3.10/dist-packages (from spacy<3.7.0,>=3.6.0->de-core-news-sm==3.6.0) (2.0.8)\n",
            "Requirement already satisfied: preshed<3.1.0,>=3.0.2 in /usr/local/lib/python3.10/dist-packages (from spacy<3.7.0,>=3.6.0->de-core-news-sm==3.6.0) (3.0.9)\n",
            "Requirement already satisfied: thinc<8.2.0,>=8.1.8 in /usr/local/lib/python3.10/dist-packages (from spacy<3.7.0,>=3.6.0->de-core-news-sm==3.6.0) (8.1.12)\n",
            "Requirement already satisfied: wasabi<1.2.0,>=0.9.1 in /usr/local/lib/python3.10/dist-packages (from spacy<3.7.0,>=3.6.0->de-core-news-sm==3.6.0) (1.1.2)\n",
            "Requirement already satisfied: srsly<3.0.0,>=2.4.3 in /usr/local/lib/python3.10/dist-packages (from spacy<3.7.0,>=3.6.0->de-core-news-sm==3.6.0) (2.4.8)\n",
            "Requirement already satisfied: catalogue<2.1.0,>=2.0.6 in /usr/local/lib/python3.10/dist-packages (from spacy<3.7.0,>=3.6.0->de-core-news-sm==3.6.0) (2.0.10)\n",
            "Requirement already satisfied: typer<0.10.0,>=0.3.0 in /usr/local/lib/python3.10/dist-packages (from spacy<3.7.0,>=3.6.0->de-core-news-sm==3.6.0) (0.9.0)\n",
            "Requirement already satisfied: pathy>=0.10.0 in /usr/local/lib/python3.10/dist-packages (from spacy<3.7.0,>=3.6.0->de-core-news-sm==3.6.0) (0.10.3)\n",
            "Requirement already satisfied: smart-open<7.0.0,>=5.2.1 in /usr/local/lib/python3.10/dist-packages (from spacy<3.7.0,>=3.6.0->de-core-news-sm==3.6.0) (6.4.0)\n",
            "Requirement already satisfied: tqdm<5.0.0,>=4.38.0 in /usr/local/lib/python3.10/dist-packages (from spacy<3.7.0,>=3.6.0->de-core-news-sm==3.6.0) (4.66.1)\n",
            "Requirement already satisfied: numpy>=1.15.0 in /usr/local/lib/python3.10/dist-packages (from spacy<3.7.0,>=3.6.0->de-core-news-sm==3.6.0) (1.23.5)\n",
            "Requirement already satisfied: requests<3.0.0,>=2.13.0 in /usr/local/lib/python3.10/dist-packages (from spacy<3.7.0,>=3.6.0->de-core-news-sm==3.6.0) (2.31.0)\n",
            "Requirement already satisfied: pydantic!=1.8,!=1.8.1,<3.0.0,>=1.7.4 in /usr/local/lib/python3.10/dist-packages (from spacy<3.7.0,>=3.6.0->de-core-news-sm==3.6.0) (1.10.13)\n",
            "Requirement already satisfied: jinja2 in /usr/local/lib/python3.10/dist-packages (from spacy<3.7.0,>=3.6.0->de-core-news-sm==3.6.0) (3.1.2)\n",
            "Requirement already satisfied: setuptools in /usr/local/lib/python3.10/dist-packages (from spacy<3.7.0,>=3.6.0->de-core-news-sm==3.6.0) (67.7.2)\n",
            "Requirement already satisfied: packaging>=20.0 in /usr/local/lib/python3.10/dist-packages (from spacy<3.7.0,>=3.6.0->de-core-news-sm==3.6.0) (23.2)\n",
            "Requirement already satisfied: langcodes<4.0.0,>=3.2.0 in /usr/local/lib/python3.10/dist-packages (from spacy<3.7.0,>=3.6.0->de-core-news-sm==3.6.0) (3.3.0)\n",
            "Requirement already satisfied: typing-extensions>=4.2.0 in /usr/local/lib/python3.10/dist-packages (from pydantic!=1.8,!=1.8.1,<3.0.0,>=1.7.4->spacy<3.7.0,>=3.6.0->de-core-news-sm==3.6.0) (4.5.0)\n",
            "Requirement already satisfied: charset-normalizer<4,>=2 in /usr/local/lib/python3.10/dist-packages (from requests<3.0.0,>=2.13.0->spacy<3.7.0,>=3.6.0->de-core-news-sm==3.6.0) (3.3.2)\n",
            "Requirement already satisfied: idna<4,>=2.5 in /usr/local/lib/python3.10/dist-packages (from requests<3.0.0,>=2.13.0->spacy<3.7.0,>=3.6.0->de-core-news-sm==3.6.0) (3.4)\n",
            "Requirement already satisfied: urllib3<3,>=1.21.1 in /usr/local/lib/python3.10/dist-packages (from requests<3.0.0,>=2.13.0->spacy<3.7.0,>=3.6.0->de-core-news-sm==3.6.0) (2.0.7)\n",
            "Requirement already satisfied: certifi>=2017.4.17 in /usr/local/lib/python3.10/dist-packages (from requests<3.0.0,>=2.13.0->spacy<3.7.0,>=3.6.0->de-core-news-sm==3.6.0) (2023.7.22)\n",
            "Requirement already satisfied: blis<0.8.0,>=0.7.8 in /usr/local/lib/python3.10/dist-packages (from thinc<8.2.0,>=8.1.8->spacy<3.7.0,>=3.6.0->de-core-news-sm==3.6.0) (0.7.11)\n",
            "Requirement already satisfied: confection<1.0.0,>=0.0.1 in /usr/local/lib/python3.10/dist-packages (from thinc<8.2.0,>=8.1.8->spacy<3.7.0,>=3.6.0->de-core-news-sm==3.6.0) (0.1.3)\n",
            "Requirement already satisfied: click<9.0.0,>=7.1.1 in /usr/local/lib/python3.10/dist-packages (from typer<0.10.0,>=0.3.0->spacy<3.7.0,>=3.6.0->de-core-news-sm==3.6.0) (8.1.7)\n",
            "Requirement already satisfied: MarkupSafe>=2.0 in /usr/local/lib/python3.10/dist-packages (from jinja2->spacy<3.7.0,>=3.6.0->de-core-news-sm==3.6.0) (2.1.3)\n",
            "\u001b[38;5;2m✔ Download and installation successful\u001b[0m\n",
            "You can now load the package via spacy.load('de_core_news_sm')\n"
          ]
        }
      ],
      "source": [
        "!apt install python3.7\n",
        "!pip install -U torchtext==0.6.0\n",
        "!pip install einops\n",
        "!python -m spacy download en\n",
        "!python -m spacy download de"
      ]
    },
    {
      "cell_type": "code",
      "execution_count": 2,
      "metadata": {
        "id": "gaqX8BeCp7Jr"
      },
      "outputs": [],
      "source": [
        "import torch\n",
        "import torch.nn as nn\n",
        "import torch.optim as optim\n",
        "\n",
        "from torchtext.datasets import Multi30k\n",
        "from torchtext.data import Field, BucketIterator\n",
        "\n",
        "import spacy\n",
        "import numpy as np\n",
        "from einops import rearrange, repeat\n",
        "\n",
        "import random\n",
        "import math\n",
        "import time\n",
        "\n",
        "SEED = 1234\n",
        "\n",
        "random.seed(SEED)\n",
        "np.random.seed(SEED)\n",
        "torch.manual_seed(SEED)\n",
        "torch.cuda.manual_seed(SEED)\n",
        "torch.backends.cudnn.deterministic = True"
      ]
    },
    {
      "cell_type": "code",
      "execution_count": 3,
      "metadata": {
        "colab": {
          "base_uri": "https://localhost:8080/"
        },
        "id": "Q4_YfkRIqjBb",
        "outputId": "659c014c-a0e5-4772-e9ed-ed6ab649778a"
      },
      "outputs": [
        {
          "output_type": "stream",
          "name": "stdout",
          "text": [
            "fatal: destination path 'small_DL_repo' already exists and is not an empty directory.\n"
          ]
        }
      ],
      "source": [
        "!git clone https://github.com/neychev/small_DL_repo.git"
      ]
    },
    {
      "cell_type": "code",
      "execution_count": 4,
      "metadata": {
        "id": "S84AelAwrod4",
        "colab": {
          "base_uri": "https://localhost:8080/"
        },
        "outputId": "fd0b9016-e6ce-4cf3-fa28-578f0690d3a3"
      },
      "outputs": [
        {
          "output_type": "stream",
          "name": "stdout",
          "text": [
            "mkdir: cannot create directory ‘./data’: File exists\n",
            "mkdir: cannot create directory ‘./data/multi30k’: File exists\n"
          ]
        }
      ],
      "source": [
        "!mkdir ./data\n",
        "!mkdir ./data/multi30k"
      ]
    },
    {
      "cell_type": "code",
      "execution_count": 5,
      "metadata": {
        "colab": {
          "base_uri": "https://localhost:8080/"
        },
        "id": "fEj0-PnPqr0I",
        "outputId": "0f44ba30-5daa-46da-e794-8386de5e7a8c"
      },
      "outputs": [
        {
          "output_type": "stream",
          "name": "stdout",
          "text": [
            "train.de\n",
            "train.en\n"
          ]
        }
      ],
      "source": [
        "!tar -zxvf ./small_DL_repo/datasets/Multi30k/training.tar.gz -C ./data/multi30k"
      ]
    },
    {
      "cell_type": "code",
      "execution_count": 6,
      "metadata": {
        "colab": {
          "base_uri": "https://localhost:8080/"
        },
        "id": "pRXROKo-r6pt",
        "outputId": "a53ef1e8-effd-4608-a14b-185dc86706fc"
      },
      "outputs": [
        {
          "output_type": "stream",
          "name": "stdout",
          "text": [
            "val.de\n",
            "val.en\n"
          ]
        }
      ],
      "source": [
        "!tar -zxvf ./small_DL_repo/datasets/Multi30k/validation.tar.gz -C ./data/multi30k"
      ]
    },
    {
      "cell_type": "code",
      "execution_count": 7,
      "metadata": {
        "colab": {
          "base_uri": "https://localhost:8080/"
        },
        "id": "2ZtEj7zmr_Bj",
        "outputId": "be62ce9c-1155-4ea6-fd08-134b173ec5dc"
      },
      "outputs": [
        {
          "output_type": "stream",
          "name": "stdout",
          "text": [
            "test2016.fr\n",
            "test2016.en\n",
            "test2016.de\n"
          ]
        }
      ],
      "source": [
        "!tar -zxvf ./small_DL_repo/datasets/Multi30k/mmt_task1_test2016.tar.gz -C ./data/multi30k"
      ]
    },
    {
      "cell_type": "code",
      "execution_count": 8,
      "metadata": {
        "id": "nvIDOr4jsE0W"
      },
      "outputs": [],
      "source": [
        "# !tar -zxvf ./small_DL_repo/datasets/Multi30k/mmt16_task1_test.tar.gz -C ./data/"
      ]
    },
    {
      "cell_type": "markdown",
      "metadata": {
        "id": "Oai3gOHap7Jr"
      },
      "source": [
        "### **Tokenizers**\n",
        "- We convert sentences to individual tokens by using tokenizers.\n",
        "  - e.g. \"good morning!\" becomes [\"good\", \"morning\", \"!\"]\n",
        "- We will use python package `spaCy` for this"
      ]
    },
    {
      "cell_type": "code",
      "execution_count": 9,
      "metadata": {
        "id": "-3IOiGiJp7Jr"
      },
      "outputs": [],
      "source": [
        "spacy_de = spacy.load('de_core_news_sm')\n",
        "spacy_en = spacy.load('en_core_web_sm')"
      ]
    },
    {
      "cell_type": "code",
      "execution_count": 10,
      "metadata": {
        "id": "qUei9_Yjp7Jr"
      },
      "outputs": [],
      "source": [
        "def tokenize_de(text):\n",
        "  return [tok.text for tok in spacy_de.tokenizer(text)]\n",
        "\n",
        "def tokenize_en(text):\n",
        "  return [tok.text for tok in spacy_en.tokenizer(text)]"
      ]
    },
    {
      "cell_type": "markdown",
      "metadata": {
        "id": "k-4Y7DDYp7Js"
      },
      "source": [
        "We use Field library to process data. By setting batch_first = True, we set the batch dimension comes first."
      ]
    },
    {
      "cell_type": "code",
      "execution_count": 11,
      "metadata": {
        "id": "hQmiIkYAp7Js"
      },
      "outputs": [],
      "source": [
        "SRC = Field(tokenize= tokenize_de,\n",
        "            init_token = '<sos>',\n",
        "            eos_token = '<eos>',\n",
        "            lower = True,\n",
        "            batch_first = True)\n",
        "\n",
        "TRG = Field(tokenize= tokenize_en,\n",
        "            init_token = '<sos>',\n",
        "            eos_token = '<eos>',\n",
        "            lower = True,\n",
        "            batch_first = True)"
      ]
    },
    {
      "cell_type": "markdown",
      "metadata": {
        "id": "gdJnk0kvp7Js"
      },
      "source": [
        "We use Multi30k dataset of about 30k English, Deutch, and French sentences, and each sentence has 12 words. We set exts as the langauges for source and target languages."
      ]
    },
    {
      "cell_type": "code",
      "execution_count": 12,
      "metadata": {
        "id": "WZylUNM6s9yl"
      },
      "outputs": [],
      "source": [
        "# Multi30k.urls[0] = \"https://raw.githubusercontent.com/neychev/small_DL_repo/master/datasets/Multi30k/training.tar.gz\"\n",
        "# Multi30k.urls[1] = \"https://raw.githubusercontent.com/neychev/small_DL_repo/master/datasets/Multi30k/validation.tar.gz\"\n",
        "# Multi30k.urls[2] = \"https://raw.githubusercontent.com/neychev/small_DL_repo/master/datasets/Multi30k/mmt_task1_test2016.tar.gz\""
      ]
    },
    {
      "cell_type": "code",
      "execution_count": 13,
      "metadata": {
        "id": "tTTe1cvEp7Js"
      },
      "outputs": [],
      "source": [
        "train_data, valid_data, test_data = Multi30k.splits(exts= ('.de', '.en'),\n",
        "                                                    fields = (SRC, TRG),\n",
        "                                                    root='./data/')"
      ]
    },
    {
      "cell_type": "code",
      "execution_count": 14,
      "metadata": {
        "colab": {
          "base_uri": "https://localhost:8080/"
        },
        "id": "zLOcxd_sp7Js",
        "outputId": "59c17900-9cfd-4c40-a91e-22821f3f87db"
      },
      "outputs": [
        {
          "output_type": "stream",
          "name": "stdout",
          "text": [
            "Number of training examples: 29000\n",
            "Number of validation examples: 1014\n",
            "Number of testing examples: 1000\n"
          ]
        }
      ],
      "source": [
        "print(f\"Number of training examples: {len(train_data.examples)}\")\n",
        "print(f\"Number of validation examples: {len(valid_data.examples)}\")\n",
        "print(f\"Number of testing examples: {len(test_data.examples)}\")"
      ]
    },
    {
      "cell_type": "code",
      "execution_count": 15,
      "metadata": {
        "colab": {
          "base_uri": "https://localhost:8080/"
        },
        "id": "8cMSRNUcp7Ju",
        "outputId": "b5b69343-6635-4890-dd53-a63b7fbd66dc"
      },
      "outputs": [
        {
          "output_type": "stream",
          "name": "stdout",
          "text": [
            "13\n",
            "8\n",
            "{'src': ['zwei', 'junge', 'weiße', 'männer', 'sind', 'im', 'freien', 'in', 'der', 'nähe', 'vieler', 'büsche', '.'], 'trg': ['two', 'young', ',', 'white', 'males', 'are', 'outside', 'near', 'many', 'bushes', '.']}\n",
            "{'src': ['mehrere', 'männer', 'mit', 'schutzhelmen', 'bedienen', 'ein', 'antriebsradsystem', '.'], 'trg': ['several', 'men', 'in', 'hard', 'hats', 'are', 'operating', 'a', 'giant', 'pulley', 'system', '.']}\n"
          ]
        }
      ],
      "source": [
        "print(len(vars(train_data.examples[0])['src']))\n",
        "print(len(vars(train_data.examples[1])['src']))\n",
        "\n",
        "print(vars(train_data.examples[0]))\n",
        "print(vars(train_data.examples[1]))"
      ]
    },
    {
      "cell_type": "markdown",
      "metadata": {
        "id": "TOlFXLO4p7Ju"
      },
      "source": [
        "## **Build Vocabulary**\n",
        "- We use `build_vocab` function to get indexing of tokens. Note that the vocabularies of source and target are different.\n",
        "- We use `min_freq` to have words that appear at least twice in the corpus to add to the vocabulary. So the word that apears only once will convert to <unk> token.\n",
        "- Note that we have to use only training set to build the vocabulary, neither validation nor test set."
      ]
    },
    {
      "cell_type": "code",
      "execution_count": 16,
      "metadata": {
        "id": "PHvpMmAKp7Jv"
      },
      "outputs": [],
      "source": [
        "SRC.build_vocab(train_data, min_freq = 2)\n",
        "TRG.build_vocab(train_data, min_freq = 2)"
      ]
    },
    {
      "cell_type": "code",
      "execution_count": 17,
      "metadata": {
        "colab": {
          "base_uri": "https://localhost:8080/"
        },
        "id": "B2m-w-e7p7Jv",
        "outputId": "89f55fd9-781a-42c9-d36f-05a4e5eacba7"
      },
      "outputs": [
        {
          "output_type": "stream",
          "name": "stdout",
          "text": [
            "Unique tokens in source (de) vocabulary: 7853\n",
            "Unique tokens in target (en) vocabulary: 5893\n"
          ]
        }
      ],
      "source": [
        "print(f\"Unique tokens in source (de) vocabulary: {len(SRC.vocab)}\")\n",
        "print(f\"Unique tokens in target (en) vocabulary: {len(TRG.vocab)}\")"
      ]
    },
    {
      "cell_type": "markdown",
      "metadata": {
        "id": "xjhhDcswp7Jv"
      },
      "source": [
        "### Create the iterators\n",
        "- we use `BucketIterator` to pack tokens as a batch and convert tokens to indices."
      ]
    },
    {
      "cell_type": "code",
      "execution_count": 18,
      "metadata": {
        "id": "ApWPp4dyp7Jv"
      },
      "outputs": [],
      "source": [
        "# for using GPU\n",
        "device = torch.device('cuda' if torch.cuda.is_available() else 'cpu')"
      ]
    },
    {
      "cell_type": "code",
      "execution_count": 19,
      "metadata": {
        "id": "KBXZyezNp7Jv"
      },
      "outputs": [],
      "source": [
        "BATCH_SIZE = 128\n",
        "\n",
        "train_iterator, valid_iterator, test_iterator = BucketIterator.splits(\n",
        "    (train_data, valid_data, test_data),\n",
        "    batch_size = BATCH_SIZE,\n",
        "    device = device\n",
        ")"
      ]
    },
    {
      "cell_type": "markdown",
      "metadata": {
        "id": "gKx7H6nGp7Jv"
      },
      "source": [
        "## **Building the Model**"
      ]
    },
    {
      "cell_type": "markdown",
      "metadata": {
        "id": "c3U2JtHpp7Jw"
      },
      "source": [
        "### Encoder"
      ]
    },
    {
      "cell_type": "code",
      "execution_count": 20,
      "metadata": {
        "id": "0FS5FHcOb1g9"
      },
      "outputs": [],
      "source": [
        "class Encoder(nn.Module):\n",
        "    def __init__(self, input_dim, embed_dim, hidden_dim, num_layers, dropout):\n",
        "        super().__init__()\n",
        "\n",
        "        ## TODO: define your model here\n",
        "\n",
        "        self.hidden_dim = hidden_dim\n",
        "        self.num_layers = num_layers\n",
        "\n",
        "        self.embedding = nn.Embedding(input_dim, embed_dim)\n",
        "        self.net = nn.LSTM(embed_dim, hidden_dim, num_layers)\n",
        "        self.dropout = nn.Dropout(dropout)\n",
        "\n",
        "    def forward(self, src):\n",
        "\n",
        "        ## TODO: write down the forward step\n",
        "        emb = self.dropout(self.embedding(src)) # (src_n, b, d)\n",
        "\n",
        "        output, hidden = self.net(emb) # (src_n, b, num_dir*h), (num_dir*num_layers, b, h) * 2 (hidden, cell)\n",
        "\n",
        "        return output, hidden"
      ]
    },
    {
      "cell_type": "markdown",
      "metadata": {
        "id": "Q7KvJuanp7Jw"
      },
      "source": [
        "### Decoder with attention"
      ]
    },
    {
      "cell_type": "code",
      "execution_count": 21,
      "metadata": {
        "id": "mjYiK7cG6RrH"
      },
      "outputs": [],
      "source": [
        "class Decoder(nn.Module):\n",
        "    def __init__(self, output_dim, embed_dim, hidden_dim, num_layers, dropout):\n",
        "        super().__init__()\n",
        "\n",
        "        ## TODO: define your model here\n",
        "\n",
        "        self.output_dim = output_dim\n",
        "        self.hidden_dim = hidden_dim\n",
        "        self.num_layers = num_layers\n",
        "\n",
        "        self.embedding = nn.Embedding(output_dim, embed_dim)\n",
        "        self.net = nn.LSTM(embed_dim+hidden_dim, hidden_dim, num_layers)\n",
        "        self.fc_out = nn.Linear(hidden_dim*2+embed_dim, output_dim)\n",
        "        self.dropout = nn.Dropout(dropout)\n",
        "\n",
        "    def forward(self, input, hidden_and_cell, dec_init_state):\n",
        "\n",
        "        ## TODO: write down the forward step\n",
        "\n",
        "        input = rearrange(input, \"b -> 1 b\") # (1, b)\n",
        "        emb = self.dropout(self.embedding(input)) # (1, b, d)\n",
        "        dec_state = dec_init_state\n",
        "        hidden, cell = hidden_and_cell\n",
        "\n",
        "        # basic dot-product attention\n",
        "        src_n, b, _ = dec_state.shape\n",
        "\n",
        "        h = hidden[-1]\n",
        "        h = rearrange(h, \"b h -> b 1 h\") # (b, 1, h)\n",
        "        dec_state = rearrange(dec_state, \"n b h -> b n h\") # (b, src_n, h)\n",
        "\n",
        "        attn = torch.bmm(h, rearrange(dec_state, \"b n h -> b h n\")) # (b, 1, src_n)\n",
        "        attn = rearrange(attn, \"b 1 n -> b n\")\n",
        "\n",
        "        attention = nn.functional.softmax(attn, dim=1) # (b, src_n)\n",
        "        attention = rearrange(attention, \"b n -> b 1 n\")\n",
        "        context = torch.bmm(attention, dec_state) # (b, 1, h)\n",
        "        context = rearrange(context, \"b t h -> t b h\") # (1, b, h)\n",
        "\n",
        "        net_input = torch.cat((emb, context), dim=2) # (1, b, h+d)\n",
        "\n",
        "        net_output, hidden = self.net(net_input, (hidden, cell)) # (num_layers, b, h), (num_layers, b, h) * 2 (hidden, cell)\n",
        "\n",
        "        emb = rearrange(emb, \"1 b d -> b d\") # (b, d)\n",
        "        net_output = rearrange(net_output, \"1 b h -> b h\") # (b, h)\n",
        "        context = rearrange(context, \"1 b h -> b h\") # (b, h)\n",
        "\n",
        "        output = self.fc_out(torch.cat((net_output, context, emb), dim=1)) # (b, out_dim)\n",
        "        attention = rearrange(attention, \"b 1 n -> b n\")\n",
        "        return output, hidden, attention\n"
      ]
    },
    {
      "cell_type": "markdown",
      "metadata": {
        "id": "uopYhcPFp7Jw"
      },
      "source": [
        "### Sequence-to-sequence model"
      ]
    },
    {
      "cell_type": "code",
      "execution_count": 22,
      "metadata": {
        "id": "wTNZLTz9p7Jw"
      },
      "outputs": [],
      "source": [
        "class Seq2Seq(nn.Module):\n",
        "    def __init__(self,\n",
        "                 encoder,\n",
        "                 decoder,\n",
        "                 src_pad_idx,\n",
        "                 trg_pad_idx,\n",
        "                 device):\n",
        "        super().__init__()\n",
        "\n",
        "        self.encoder = encoder\n",
        "        self.decoder = decoder\n",
        "        self.src_pad_idx = src_pad_idx\n",
        "        self.trg_pad_idx = trg_pad_idx\n",
        "        self.device = device\n",
        "\n",
        "\n",
        "    def forward(self, src, trg):\n",
        "\n",
        "        ## TODO: write down the forward step\n",
        "\n",
        "        b = src.shape[1]\n",
        "        trg_n = trg.shape[0]\n",
        "        trg_voc_size = self.decoder.output_dim\n",
        "\n",
        "        output = torch.zeros(trg_n, b, trg_voc_size).to(self.device)\n",
        "\n",
        "        dec_init_state, hidden = self.encoder(src) # hidden: hidden and cell if using LSTM\n",
        "\n",
        "        input = trg[0, :]\n",
        "        for t in range(1, trg_n):\n",
        "            dec_output, hidden, attention = self.decoder(input, hidden, dec_init_state)\n",
        "\n",
        "            output[t] = dec_output\n",
        "\n",
        "            top = dec_output.argmax(1)\n",
        "            input = top\n",
        "\n",
        "        return output, attention"
      ]
    },
    {
      "cell_type": "markdown",
      "metadata": {
        "id": "I0GJACWip7Jw"
      },
      "source": [
        "### Training the Seq2Seq Model"
      ]
    },
    {
      "cell_type": "code",
      "execution_count": 23,
      "metadata": {
        "id": "i5LWsvXUp7Jw"
      },
      "outputs": [],
      "source": [
        "INPUT_DIM = len(SRC.vocab)\n",
        "OUTPUT_DIM = len(TRG.vocab)\n",
        "# define your hyperparameters here\n",
        "ENC_EMB_DIM = 256\n",
        "DEC_EMB_DIM = 256\n",
        "HIDDEN_DIM = 512\n",
        "NUM_LAYERS = 1\n",
        "DROPOUT = 0.5\n",
        "\n",
        "enc = Encoder(INPUT_DIM, ENC_EMB_DIM, HIDDEN_DIM, NUM_LAYERS, DROPOUT)\n",
        "dec = Decoder(OUTPUT_DIM, DEC_EMB_DIM, HIDDEN_DIM, NUM_LAYERS, DROPOUT)"
      ]
    },
    {
      "cell_type": "code",
      "execution_count": 24,
      "metadata": {
        "id": "fUVT628Sp7Jx"
      },
      "outputs": [],
      "source": [
        "SRC_PAD_IDX = SRC.vocab.stoi[SRC.pad_token]\n",
        "TRG_PAD_IDX = TRG.vocab.stoi[TRG.pad_token]\n",
        "\n",
        "model = Seq2Seq(enc, dec, SRC_PAD_IDX, TRG_PAD_IDX, device).to(device)"
      ]
    },
    {
      "cell_type": "markdown",
      "metadata": {
        "id": "SlsdAuQwp7Jx"
      },
      "source": [
        "We initialize model weights"
      ]
    },
    {
      "cell_type": "code",
      "execution_count": 25,
      "metadata": {
        "id": "cfT4Inqqp7Jx"
      },
      "outputs": [],
      "source": [
        "def initialize_weights(m):\n",
        "    if hasattr(m, 'weight') and m.weight.dim() > 1:\n",
        "        nn.init.xavier_uniform_(m.weight.data)\n",
        "\n",
        "model.apply(initialize_weights);"
      ]
    },
    {
      "cell_type": "markdown",
      "metadata": {
        "id": "kIQjFpAdp7Jx"
      },
      "source": [
        "We use Adam as our optimizer and CrossEntropyLoss. Also we set to ignore <pad> token in calculating loss"
      ]
    },
    {
      "cell_type": "code",
      "execution_count": 26,
      "metadata": {
        "id": "OIh6XKD_p7Jx"
      },
      "outputs": [],
      "source": [
        "LEARNING_RATE = 0.0005\n",
        "\n",
        "optimizer = torch.optim.Adam(model.parameters(), lr = LEARNING_RATE)"
      ]
    },
    {
      "cell_type": "code",
      "execution_count": 27,
      "metadata": {
        "id": "kmBW8411p7Jx"
      },
      "outputs": [],
      "source": [
        "criterion = nn.CrossEntropyLoss(ignore_index = TRG_PAD_IDX)"
      ]
    },
    {
      "cell_type": "markdown",
      "metadata": {
        "id": "iZX77bFTp7Jx"
      },
      "source": [
        "### Training"
      ]
    },
    {
      "cell_type": "code",
      "execution_count": 28,
      "metadata": {
        "id": "tSOYycrbp7Jx"
      },
      "outputs": [],
      "source": [
        "def train(model, iterator, optimizer, criterion):\n",
        "\n",
        "    model.train()\n",
        "\n",
        "    epoch_loss = 0\n",
        "\n",
        "    for i, batch in enumerate(iterator):\n",
        "\n",
        "        src = batch.src\n",
        "        trg = batch.trg\n",
        "\n",
        "        optimizer.zero_grad()\n",
        "\n",
        "        # TODO: write down your training code here\n",
        "\n",
        "        src = rearrange(src, \"b n -> n b\")\n",
        "        trg = rearrange(trg, \"b n -> n b\")\n",
        "        output, attention = model(src, trg)\n",
        "\n",
        "        output = rearrange(output[1:], \"n b d -> (n b) d\") # ((trg_n-1)*b, out_d)\n",
        "        trg = rearrange(trg[1:], \"n b -> (n b)\") # ((trg_n-1)*b)\n",
        "\n",
        "        loss = criterion(output, trg)\n",
        "\n",
        "        loss.backward()\n",
        "        optimizer.step()\n",
        "\n",
        "        epoch_loss += loss.item()\n",
        "\n",
        "    return epoch_loss / len(iterator)"
      ]
    },
    {
      "cell_type": "markdown",
      "metadata": {
        "id": "wwaNTWrop7Jy"
      },
      "source": [
        "### Evaluation"
      ]
    },
    {
      "cell_type": "code",
      "execution_count": 30,
      "metadata": {
        "id": "Bgm7W8lzp7Jy"
      },
      "outputs": [],
      "source": [
        "def evaluate(model, iterator, criterion):\n",
        "\n",
        "    model.eval()\n",
        "\n",
        "    epoch_loss = 0\n",
        "\n",
        "    with torch.no_grad():\n",
        "\n",
        "        for i, batch in enumerate(iterator):\n",
        "\n",
        "            src = batch.src\n",
        "            trg = batch.trg\n",
        "\n",
        "            # TODO: write down your training code here\n",
        "\n",
        "            src = rearrange(src, \"b n -> n b\")\n",
        "            trg = rearrange(trg, \"b n -> n b\")\n",
        "\n",
        "            output, attention = model(src, trg)\n",
        "\n",
        "            output = rearrange(output[1:], \"n b d -> (n b) d\") # ((trg_n-1)*b, out_d)\n",
        "            trg = rearrange(trg[1:], \"n b -> (n b)\") # ((trg_n-1)*b)\n",
        "\n",
        "            loss = criterion(output, trg)\n",
        "\n",
        "            epoch_loss += loss.item()\n",
        "\n",
        "    return epoch_loss / len(iterator)"
      ]
    },
    {
      "cell_type": "code",
      "execution_count": 31,
      "metadata": {
        "id": "scfuVz60p7Jy"
      },
      "outputs": [],
      "source": [
        "def epoch_time(start_time, end_time):\n",
        "    elapsed_time = end_time - start_time\n",
        "    elapsed_mins = int(elapsed_time / 60)\n",
        "    elapsed_secs = int(elapsed_time - (elapsed_mins * 60))\n",
        "    return elapsed_mins, elapsed_secs"
      ]
    },
    {
      "cell_type": "markdown",
      "metadata": {
        "id": "6omWpZinp7Jz"
      },
      "source": [
        "### Train the model through multiple epochs"
      ]
    },
    {
      "cell_type": "code",
      "execution_count": 32,
      "metadata": {
        "colab": {
          "base_uri": "https://localhost:8080/"
        },
        "id": "PXdoVfDPp7Jz",
        "outputId": "976672a4-e62a-4731-c0f2-f6d4cb1e3f6d"
      },
      "outputs": [
        {
          "output_type": "stream",
          "name": "stdout",
          "text": [
            "Epoch: 01 | Time: 0m 48s\n",
            "\tTrain Loss: 4.863\n",
            "\t Val. Loss: 4.682\n",
            "Epoch: 02 | Time: 0m 49s\n",
            "\tTrain Loss: 4.668\n",
            "\t Val. Loss: 4.517\n",
            "Epoch: 03 | Time: 0m 48s\n",
            "\tTrain Loss: 4.495\n",
            "\t Val. Loss: 4.326\n",
            "Epoch: 04 | Time: 0m 47s\n",
            "\tTrain Loss: 4.321\n",
            "\t Val. Loss: 4.138\n",
            "Epoch: 05 | Time: 0m 48s\n",
            "\tTrain Loss: 4.137\n",
            "\t Val. Loss: 3.985\n",
            "Epoch: 06 | Time: 0m 47s\n",
            "\tTrain Loss: 3.968\n",
            "\t Val. Loss: 3.855\n",
            "Epoch: 07 | Time: 0m 48s\n",
            "\tTrain Loss: 3.806\n",
            "\t Val. Loss: 3.715\n",
            "Epoch: 08 | Time: 0m 47s\n",
            "\tTrain Loss: 3.651\n",
            "\t Val. Loss: 3.597\n",
            "Epoch: 09 | Time: 0m 48s\n",
            "\tTrain Loss: 3.503\n",
            "\t Val. Loss: 3.508\n",
            "Epoch: 10 | Time: 0m 48s\n",
            "\tTrain Loss: 3.369\n",
            "\t Val. Loss: 3.416\n"
          ]
        }
      ],
      "source": [
        "N_EPOCHS = 10\n",
        "\n",
        "best_valid_loss = float('inf')\n",
        "\n",
        "for epoch in range(N_EPOCHS):\n",
        "\n",
        "    start_time = time.time()\n",
        "\n",
        "    train_loss = train(model, train_iterator, optimizer, criterion)\n",
        "    valid_loss = evaluate(model, valid_iterator, criterion)\n",
        "\n",
        "    end_time = time.time()\n",
        "\n",
        "    epoch_mins, epoch_secs = epoch_time(start_time, end_time)\n",
        "\n",
        "    if valid_loss < best_valid_loss:\n",
        "        best_valid_loss = valid_loss\n",
        "        torch.save(model.state_dict(), 'my-model.pt')\n",
        "\n",
        "    print(f'Epoch: {epoch+1:02} | Time: {epoch_mins}m {epoch_secs}s')\n",
        "    print(f'\\tTrain Loss: {train_loss:.3f}')\n",
        "    print(f'\\t Val. Loss: {valid_loss:.3f}')"
      ]
    },
    {
      "cell_type": "code",
      "execution_count": 33,
      "metadata": {
        "colab": {
          "base_uri": "https://localhost:8080/"
        },
        "id": "32dAxG2Sp7Jz",
        "outputId": "fbfab5fb-bd0d-41e3-e96b-0893a19b5805"
      },
      "outputs": [
        {
          "output_type": "stream",
          "name": "stdout",
          "text": [
            "| Test Loss: 3.420\n"
          ]
        }
      ],
      "source": [
        "model.load_state_dict(torch.load('my-model.pt'))\n",
        "\n",
        "test_loss = evaluate(model, test_iterator, criterion)\n",
        "\n",
        "print(f'| Test Loss: {test_loss:.3f}')"
      ]
    },
    {
      "cell_type": "markdown",
      "metadata": {
        "id": "Yw8V2b9np7Jz"
      },
      "source": [
        "### Inference and attention visualization"
      ]
    },
    {
      "cell_type": "code",
      "execution_count": 34,
      "metadata": {
        "id": "qUrxFETpp7Jz"
      },
      "outputs": [],
      "source": [
        "import matplotlib.pyplot as plt\n",
        "import matplotlib.ticker as ticker"
      ]
    },
    {
      "cell_type": "code",
      "execution_count": 35,
      "metadata": {
        "id": "O2ncdyo5p7J0"
      },
      "outputs": [],
      "source": [
        "def translate_sentence(sentence, src_field, trg_field, model, device, max_len = 50):\n",
        "\n",
        "    model.eval()\n",
        "\n",
        "    # TODO: write your code\n",
        "\n",
        "    if isinstance(sentence, str):\n",
        "        de_processor = spacy.load(\"de_core_news_sm\")\n",
        "        tokens = [token.text.lower() for token in de_processor(sentence)]\n",
        "    else:\n",
        "        tokens = [token.lower() for token in sentence]\n",
        "\n",
        "    tokens = [src_field.init_token] + tokens + [src_field.eos_token]\n",
        "    src_indices = [src_field.vocab.stoi[token] for token in tokens]\n",
        "    src_tensor = rearrange(torch.LongTensor(src_indices), \"i -> i 1\").to(device)\n",
        "\n",
        "    with torch.no_grad():\n",
        "        dec_init_state, hidden_and_cell = model.encoder(src_tensor)\n",
        "\n",
        "    trg_indices = [trg_field.vocab.stoi[trg_field.init_token]]\n",
        "    attentions = torch.zeros(max_len, 1, len(src_indices)).to(device)\n",
        "\n",
        "    for i in range(max_len):\n",
        "        trg_tensor = torch.LongTensor([trg_indices[-1]]).to(device)\n",
        "\n",
        "        with torch.no_grad():\n",
        "            output, hidden_and_cell, attention = model.decoder(trg_tensor, hidden_and_cell, dec_init_state)\n",
        "\n",
        "        attentions[i] = attention\n",
        "        pred_token = output.argmax(1).item()\n",
        "        trg_indices.append(pred_token)\n",
        "\n",
        "        if pred_token == trg_field.vocab.stoi[trg_field.eos_token]:\n",
        "            break\n",
        "\n",
        "    trg_tokens = [trg_field.vocab.itos[i] for i in trg_indices]\n",
        "    decoded_words = trg_tokens[1:]\n",
        "    decoder_attentions = rearrange(attentions[:len(trg_tokens)-1].detach().cpu(), \"m 1 n -> m n\")\n",
        "    return decoded_words, decoder_attentions"
      ]
    },
    {
      "cell_type": "code",
      "execution_count": 36,
      "metadata": {
        "id": "hgjAl5XXp7J0"
      },
      "outputs": [],
      "source": [
        "def display_attention(sentence, translation, attention):\n",
        "\n",
        "    # Set up figure with colorbar\n",
        "    fig = plt.figure(figsize=(15,25))\n",
        "\n",
        "    ax = fig.add_subplot(111)\n",
        "\n",
        "    cax = ax.matshow(attention.numpy(), cmap='bone')\n",
        "\n",
        "    # Set up axes\n",
        "    ax.tick_params(labelsize=12)\n",
        "    ax.set_xticklabels(['']+['<sos>']+[t.lower() for t in sentence]+['<eos>'],\n",
        "                           rotation=45)\n",
        "    ax.set_yticklabels(['']+translation)\n",
        "\n",
        "    # Show label at every tick\n",
        "    ax.xaxis.set_major_locator(ticker.MultipleLocator(1))\n",
        "    ax.yaxis.set_major_locator(ticker.MultipleLocator(1))\n",
        "\n",
        "    plt.show()\n",
        "    plt.close()\n",
        "\n"
      ]
    },
    {
      "cell_type": "code",
      "execution_count": 37,
      "metadata": {
        "colab": {
          "base_uri": "https://localhost:8080/"
        },
        "id": "wRKK-3qVp7J0",
        "outputId": "96d3ff58-a8c0-4433-9fc5-92dad0693161"
      },
      "outputs": [
        {
          "output_type": "stream",
          "name": "stdout",
          "text": [
            "src = ['ein', 'brauner', 'hund', 'rennt', 'dem', 'schwarzen', 'hund', 'hinterher', '.']\n",
            "trg = ['a', 'brown', 'dog', 'is', 'running', 'after', 'the', 'black', 'dog', '.']\n"
          ]
        }
      ],
      "source": [
        "example_idx = 6\n",
        "\n",
        "src = vars(valid_data.examples[example_idx])['src']\n",
        "trg = vars(valid_data.examples[example_idx])['trg']\n",
        "\n",
        "print(f'src = {src}')\n",
        "print(f'trg = {trg}')"
      ]
    },
    {
      "cell_type": "code",
      "execution_count": 38,
      "metadata": {
        "colab": {
          "base_uri": "https://localhost:8080/"
        },
        "id": "mvOJYC9Op7J0",
        "outputId": "5b3d40ea-b37b-487e-a781-15c2a36decdb"
      },
      "outputs": [
        {
          "output_type": "stream",
          "name": "stdout",
          "text": [
            "predicted trg = ['a', 'brown', 'dog', 'is', 'dog', 'dog', 'dog', 'dog', '.', '<eos>']\n"
          ]
        }
      ],
      "source": [
        "translation, attention = translate_sentence(src, SRC, TRG, model, device)\n",
        "\n",
        "print(f'predicted trg = {translation}')"
      ]
    },
    {
      "cell_type": "code",
      "execution_count": 39,
      "metadata": {
        "colab": {
          "base_uri": "https://localhost:8080/",
          "height": 906
        },
        "id": "6BzDk_a2p7J0",
        "outputId": "72e19754-c6dd-4e04-ed7b-fafede257396"
      },
      "outputs": [
        {
          "output_type": "stream",
          "name": "stderr",
          "text": [
            "<ipython-input-36-32c513eaa5d2>:12: UserWarning: FixedFormatter should only be used together with FixedLocator\n",
            "  ax.set_xticklabels(['']+['<sos>']+[t.lower() for t in sentence]+['<eos>'],\n",
            "<ipython-input-36-32c513eaa5d2>:14: UserWarning: FixedFormatter should only be used together with FixedLocator\n",
            "  ax.set_yticklabels(['']+translation)\n"
          ]
        },
        {
          "output_type": "display_data",
          "data": {
            "text/plain": [
              "<Figure size 1500x2500 with 1 Axes>"
            ],
            "image/png": "[encoded data removed]"
          },
          "metadata": {}
        }
      ],
      "source": [
        "display_attention(src, translation, attention)"
      ]
    },
    {
      "cell_type": "markdown",
      "metadata": {
        "id": "K0JFlkqLp7J1"
      },
      "source": [
        "### BLEU\n",
        "- Calculate BLEU for test set"
      ]
    },
    {
      "cell_type": "code",
      "execution_count": 40,
      "metadata": {
        "id": "9bUG6yw-p7J1"
      },
      "outputs": [],
      "source": [
        "from torchtext.data.metrics import bleu_score\n",
        "\n",
        "def calculate_bleu(data, src_field, trg_field, model, device, max_len = 50):\n",
        "\n",
        "    trgs = []\n",
        "    pred_trgs = []\n",
        "\n",
        "    for datum in data:\n",
        "\n",
        "        src = vars(datum)['src']\n",
        "        trg = vars(datum)['trg']\n",
        "\n",
        "        pred_trg, _ = translate_sentence(src, src_field, trg_field, model, device, max_len)\n",
        "\n",
        "        #cut off <eos> token\n",
        "        pred_trg = pred_trg[:-1]\n",
        "\n",
        "        pred_trgs.append(pred_trg)\n",
        "        trgs.append([trg])\n",
        "\n",
        "    return bleu_score(pred_trgs, trgs)"
      ]
    },
    {
      "cell_type": "code",
      "execution_count": 41,
      "metadata": {
        "colab": {
          "base_uri": "https://localhost:8080/"
        },
        "id": "GYbN2uC6p7J1",
        "outputId": "9d46af8c-b6d6-45e6-a87e-ca7a284d5b67"
      },
      "outputs": [
        {
          "output_type": "stream",
          "name": "stdout",
          "text": [
            "BLEU score = 12.67\n"
          ]
        }
      ],
      "source": [
        "bleu_score = calculate_bleu(test_data, SRC, TRG, model, device)\n",
        "\n",
        "print(f'BLEU score = {bleu_score*100:.2f}')"
      ]
    },
    {
      "cell_type": "markdown",
      "metadata": {
        "id": "AKlqlwkucJuH"
      },
      "source": [
        "# Tune the model"
      ]
    },
    {
      "cell_type": "markdown",
      "metadata": {
        "id": "XcOUI4DmcjcK"
      },
      "source": [
        "## **Building the Model**"
      ]
    },
    {
      "cell_type": "markdown",
      "metadata": {
        "id": "kYwIPQJScjcK"
      },
      "source": [
        "### Encoder"
      ]
    },
    {
      "cell_type": "code",
      "execution_count": 42,
      "metadata": {
        "id": "8bBsBDWqzuV9"
      },
      "outputs": [],
      "source": [
        "class Encoder(nn.Module):\n",
        "    def __init__(self, input_dim, embed_dim, hidden_dim, num_layers, dropout):\n",
        "        super().__init__()\n",
        "\n",
        "        ## TODO: define your model here\n",
        "\n",
        "        self.hidden_dim = hidden_dim\n",
        "        self.num_layers = num_layers\n",
        "\n",
        "        # weight matrix for bilinear attention\n",
        "        self.proj = nn.Linear(hidden_dim, hidden_dim, bias=False)\n",
        "\n",
        "        self.embedding = nn.Embedding(input_dim, embed_dim)\n",
        "        self.net = nn.GRU(embed_dim, hidden_dim, num_layers, bidirectional=False)\n",
        "        self.dropout = nn.Dropout(dropout)\n",
        "\n",
        "    def forward(self, src):\n",
        "\n",
        "        ## TODO: write down the forward step\n",
        "        emb = self.dropout(self.embedding(src)) # (src_n, b, d)\n",
        "\n",
        "        output, hidden = self.net(emb) # (src_n, b, num_dir*h), (num_dir*num_layers, b, h)\n",
        "\n",
        "        hidden = rearrange(hidden, \"l b h -> b l h\")\n",
        "        hidden = self.proj(hidden)\n",
        "        hidden = rearrange(hidden, \"b l h -> l b h\").contiguous()\n",
        "\n",
        "        return output, hidden"
      ]
    },
    {
      "cell_type": "markdown",
      "metadata": {
        "id": "eCHxGsiOcXYO"
      },
      "source": [
        "### Decoder with multiplicative(bilinear) attention"
      ]
    },
    {
      "cell_type": "code",
      "execution_count": 43,
      "metadata": {
        "id": "4RdhJZ1pzuV9"
      },
      "outputs": [],
      "source": [
        "class Decoder(nn.Module):\n",
        "    def __init__(self, output_dim, embed_dim, hidden_dim, num_layers, dropout):\n",
        "        super().__init__()\n",
        "\n",
        "        ## TODO: define your model here\n",
        "\n",
        "        self.output_dim = output_dim\n",
        "        self.hidden_dim = hidden_dim\n",
        "        self.num_layers = num_layers\n",
        "\n",
        "        self.embedding = nn.Embedding(output_dim, embed_dim)\n",
        "        self.net = nn.GRU(embed_dim+hidden_dim, hidden_dim, num_layers)\n",
        "        self.fc_out = nn.Linear(hidden_dim*2+embed_dim, output_dim)\n",
        "        self.dropout = nn.Dropout(dropout)\n",
        "\n",
        "    def forward(self, input, hidden, dec_init_state):\n",
        "\n",
        "        ## TODO: write down the forward step\n",
        "\n",
        "        input = rearrange(input, \"b -> 1 b\") # (1, b)\n",
        "        emb = self.dropout(self.embedding(input)) # (1, b, d)\n",
        "        dec_state = dec_init_state\n",
        "\n",
        "        # bilinear attention\n",
        "        src_n, b, _ = dec_state.shape\n",
        "\n",
        "        h = hidden[-1]\n",
        "        h = rearrange(h, \"b h -> b 1 h\") # (b, 1, h)\n",
        "        dec_state = rearrange(dec_state, \"n b h -> b n h\") # (b, src_n, h)\n",
        "\n",
        "        attn = torch.bmm(h, rearrange(dec_state, \"b n h -> b h n\")) # (b, 1, src_n)\n",
        "        attn = rearrange(attn, \"b 1 n -> b n\")\n",
        "\n",
        "        attention = nn.functional.softmax(attn, dim=1) # (b, src_n)\n",
        "        attention = rearrange(attention, \"b n -> b 1 n\")\n",
        "        context = torch.bmm(attention, dec_state) # (b, 1, h)\n",
        "        context = rearrange(context, \"b t h -> t b h\") # (1, b, h)\n",
        "\n",
        "        net_input = torch.cat((emb, context), dim=2) # (1, b, h+d)\n",
        "\n",
        "        net_output, hidden = self.net(net_input, hidden) # (num_layers, b, h), (num_layers, b, h) * 2 (hidden, cell)\n",
        "\n",
        "        emb = rearrange(emb, \"l b d -> (l b) d\") # (num_layers*b, d)\n",
        "        net_output = rearrange(net_output, \"l b h -> (l b) h\") # (num_layers*b, h)\n",
        "        context = rearrange(context, \"l b h -> (l b) h\") # (num_layers*b, h)\n",
        "\n",
        "        output = self.fc_out(torch.cat((net_output, context, emb), dim=1)) # (num_layers*b, out_dim)\n",
        "        attention = rearrange(attention, \"b 1 n -> b n\")\n",
        "        return output, hidden, attention\n"
      ]
    },
    {
      "cell_type": "markdown",
      "metadata": {
        "id": "0YCenWyQcXYP"
      },
      "source": [
        "### Sequence-to-sequence model"
      ]
    },
    {
      "cell_type": "code",
      "execution_count": 44,
      "metadata": {
        "id": "FOUd8goNzuV-"
      },
      "outputs": [],
      "source": [
        "class Seq2Seq(nn.Module):\n",
        "    def __init__(self,\n",
        "                 encoder,\n",
        "                 decoder,\n",
        "                 src_pad_idx,\n",
        "                 trg_pad_idx,\n",
        "                 device):\n",
        "        super().__init__()\n",
        "\n",
        "        self.encoder = encoder\n",
        "        self.decoder = decoder\n",
        "        self.src_pad_idx = src_pad_idx\n",
        "        self.trg_pad_idx = trg_pad_idx\n",
        "        self.device = device\n",
        "\n",
        "\n",
        "    def forward(self, src, trg):\n",
        "\n",
        "        ## TODO: write down the forward step\n",
        "\n",
        "        b = src.shape[1]\n",
        "        trg_n = trg.shape[0]\n",
        "        trg_voc_size = self.decoder.output_dim\n",
        "\n",
        "        output = torch.zeros(trg_n, b, trg_voc_size).to(self.device)\n",
        "\n",
        "        dec_init_state, hidden = self.encoder(src) # hidden: hidden and cell if using LSTM\n",
        "\n",
        "        input = trg[0, :]\n",
        "        for t in range(1, trg_n):\n",
        "            dec_output, hidden, attention = self.decoder(input, hidden, dec_init_state)\n",
        "\n",
        "            output[t] = dec_output\n",
        "\n",
        "            top = dec_output.argmax(1)\n",
        "            input = top\n",
        "\n",
        "        return output, attention"
      ]
    },
    {
      "cell_type": "markdown",
      "metadata": {
        "id": "CfN9Gxk4cXYQ"
      },
      "source": [
        "### Training the Seq2Seq Model"
      ]
    },
    {
      "cell_type": "code",
      "execution_count": 45,
      "metadata": {
        "id": "WtI1rK0ccXYQ"
      },
      "outputs": [],
      "source": [
        "INPUT_DIM = len(SRC.vocab)\n",
        "OUTPUT_DIM = len(TRG.vocab)\n",
        "# define your hyperparameters here\n",
        "ENC_EMB_DIM = 256\n",
        "DEC_EMB_DIM = 256\n",
        "HIDDEN_DIM = 512\n",
        "NUM_LAYERS = 2\n",
        "DROPOUT = 0.5\n",
        "\n",
        "enc = Encoder(INPUT_DIM, ENC_EMB_DIM, HIDDEN_DIM, NUM_LAYERS, DROPOUT)\n",
        "dec = Decoder(OUTPUT_DIM, DEC_EMB_DIM, HIDDEN_DIM, NUM_LAYERS, DROPOUT)"
      ]
    },
    {
      "cell_type": "code",
      "execution_count": 46,
      "metadata": {
        "id": "rAWKoM9jcXYQ"
      },
      "outputs": [],
      "source": [
        "SRC_PAD_IDX = SRC.vocab.stoi[SRC.pad_token]\n",
        "TRG_PAD_IDX = TRG.vocab.stoi[TRG.pad_token]\n",
        "\n",
        "model = Seq2Seq(enc, dec, SRC_PAD_IDX, TRG_PAD_IDX, device).to(device)"
      ]
    },
    {
      "cell_type": "markdown",
      "metadata": {
        "id": "_o9x03FgcXYQ"
      },
      "source": [
        "We initialize model weights"
      ]
    },
    {
      "cell_type": "code",
      "execution_count": 47,
      "metadata": {
        "id": "XTrm6NwbcXYR"
      },
      "outputs": [],
      "source": [
        "def initialize_weights(m):\n",
        "    if hasattr(m, 'weight') and m.weight.dim() > 1:\n",
        "        nn.init.xavier_uniform_(m.weight.data)\n",
        "\n",
        "model.apply(initialize_weights);"
      ]
    },
    {
      "cell_type": "markdown",
      "metadata": {
        "id": "1gGXK9kicXYR"
      },
      "source": [
        "We use Adam as our optimizer and CrossEntropyLoss. Also we set to ignore <pad> token in calculating loss"
      ]
    },
    {
      "cell_type": "code",
      "execution_count": 48,
      "metadata": {
        "id": "TQ4bKjY2cXYR"
      },
      "outputs": [],
      "source": [
        "LEARNING_RATE = 0.001\n",
        "\n",
        "optimizer = torch.optim.Adam(model.parameters(), lr = LEARNING_RATE)"
      ]
    },
    {
      "cell_type": "code",
      "execution_count": 49,
      "metadata": {
        "id": "jW9cBZTxcXYR"
      },
      "outputs": [],
      "source": [
        "criterion = nn.CrossEntropyLoss(ignore_index = TRG_PAD_IDX)"
      ]
    },
    {
      "cell_type": "markdown",
      "metadata": {
        "id": "T6usHosycXYR"
      },
      "source": [
        "### Training"
      ]
    },
    {
      "cell_type": "code",
      "execution_count": 50,
      "metadata": {
        "id": "zwjsDf1rzuV_"
      },
      "outputs": [],
      "source": [
        "def train(model, iterator, optimizer, criterion):\n",
        "\n",
        "    model.train()\n",
        "\n",
        "    epoch_loss = 0\n",
        "\n",
        "    for i, batch in enumerate(iterator):\n",
        "\n",
        "        src = batch.src\n",
        "        trg = batch.trg\n",
        "\n",
        "        optimizer.zero_grad()\n",
        "\n",
        "        # TODO: write down your training code here\n",
        "\n",
        "        src = rearrange(src, \"b n -> n b\")\n",
        "        trg = rearrange(trg, \"b n -> n b\")\n",
        "        output, attention = model(src, trg)\n",
        "\n",
        "        output = rearrange(output[1:], \"n b d -> (n b) d\") # ((trg_n-1)*b, out_d)\n",
        "        trg = rearrange(trg[1:], \"n b -> (n b)\") # ((trg_n-1)*b)\n",
        "\n",
        "        loss = criterion(output, trg)\n",
        "\n",
        "        loss.backward()\n",
        "        nn.utils.clip_grad_norm_(model.parameters(), 1)\n",
        "        optimizer.step()\n",
        "\n",
        "        epoch_loss += loss.item()\n",
        "\n",
        "    return epoch_loss / len(iterator)"
      ]
    },
    {
      "cell_type": "code",
      "execution_count": 51,
      "metadata": {
        "id": "DIQtIWKacXYS"
      },
      "outputs": [],
      "source": [
        "# batch = next(iter(train_iterator))"
      ]
    },
    {
      "cell_type": "code",
      "execution_count": 52,
      "metadata": {
        "id": "rCSZzln0cXYS"
      },
      "outputs": [],
      "source": [
        "# src = batch.src\n",
        "# src.shape"
      ]
    },
    {
      "cell_type": "code",
      "execution_count": 53,
      "metadata": {
        "id": "fL8d-U5OcXYS"
      },
      "outputs": [],
      "source": [
        "# trg = batch.trg\n",
        "# trg.shape"
      ]
    },
    {
      "cell_type": "code",
      "execution_count": 54,
      "metadata": {
        "id": "VLdRHMn6cXYS"
      },
      "outputs": [],
      "source": [
        "# print(src)"
      ]
    },
    {
      "cell_type": "code",
      "execution_count": 55,
      "metadata": {
        "id": "oYPRXCbecXYS"
      },
      "outputs": [],
      "source": [
        "# src_len = torch.sum(src != 1, dim=1)\n",
        "# src_len.shape"
      ]
    },
    {
      "cell_type": "code",
      "execution_count": 56,
      "metadata": {
        "id": "GFAzuLoScXYT"
      },
      "outputs": [],
      "source": [
        "# src_len"
      ]
    },
    {
      "cell_type": "code",
      "execution_count": 57,
      "metadata": {
        "id": "mMSo2O2_cXYT"
      },
      "outputs": [],
      "source": [
        "# src_len_idx = torch.sort(src_len, descending=True).indices\n",
        "# src_len_sorted = src_len[src_len_idx]\n",
        "# print(src_len_sorted)"
      ]
    },
    {
      "cell_type": "code",
      "execution_count": 58,
      "metadata": {
        "id": "kXrCBiCGcXYT"
      },
      "outputs": [],
      "source": [
        "# src = src[src_len_idx]\n",
        "# print(src)"
      ]
    },
    {
      "cell_type": "code",
      "execution_count": 59,
      "metadata": {
        "id": "uAoeGEJ-cXYU"
      },
      "outputs": [],
      "source": [
        "# src = rearrange(src, \"b n -> n b\")\n",
        "# trg = rearrange(trg, \"b n -> n b\")\n",
        "# src_len_sorted = src_len_sorted.to(\"cpu\")\n",
        "# output, attention = model(src, src_len_sorted, trg)"
      ]
    },
    {
      "cell_type": "code",
      "execution_count": 60,
      "metadata": {
        "id": "_V-ZtXAqcXYU"
      },
      "outputs": [],
      "source": [
        "# print(output.shape, trg.shape)"
      ]
    },
    {
      "cell_type": "code",
      "execution_count": 61,
      "metadata": {
        "id": "ciwjtMMwcXYU"
      },
      "outputs": [],
      "source": [
        "# print(output[1:].view(-1, output.shape[-1]).shape)"
      ]
    },
    {
      "cell_type": "markdown",
      "metadata": {
        "id": "inXoXiKVcXYU"
      },
      "source": [
        "### Evaluation"
      ]
    },
    {
      "cell_type": "code",
      "execution_count": 63,
      "metadata": {
        "id": "JUMpdwY1zuWB"
      },
      "outputs": [],
      "source": [
        "def evaluate(model, iterator, criterion):\n",
        "\n",
        "    model.eval()\n",
        "\n",
        "    epoch_loss = 0\n",
        "\n",
        "    with torch.no_grad():\n",
        "\n",
        "        for i, batch in enumerate(iterator):\n",
        "\n",
        "            src = batch.src\n",
        "            trg = batch.trg\n",
        "\n",
        "            # TODO: write down your training code here\n",
        "\n",
        "            src = rearrange(src, \"b n -> n b\")\n",
        "            trg = rearrange(trg, \"b n -> n b\")\n",
        "\n",
        "            output, attention = model(src, trg)\n",
        "\n",
        "            output = rearrange(output[1:], \"n b d -> (n b) d\") # ((trg_n-1)*b, out_d)\n",
        "            trg = rearrange(trg[1:], \"n b -> (n b)\") # ((trg_n-1)*b)\n",
        "\n",
        "            loss = criterion(output, trg)\n",
        "\n",
        "            epoch_loss += loss.item()\n",
        "\n",
        "    return epoch_loss / len(iterator)"
      ]
    },
    {
      "cell_type": "markdown",
      "metadata": {
        "id": "zhkKV39KcXYV"
      },
      "source": [
        "### Train the model through multiple epochs"
      ]
    },
    {
      "cell_type": "code",
      "execution_count": 64,
      "metadata": {
        "colab": {
          "base_uri": "https://localhost:8080/"
        },
        "id": "IhxxZFdicXYV",
        "outputId": "bb681e19-2e9e-438d-858b-d34be54753fc"
      },
      "outputs": [
        {
          "output_type": "stream",
          "name": "stdout",
          "text": [
            "Epoch: 01 | Time: 0m 52s\n",
            "\tTrain Loss: 4.564\n",
            "\t Val. Loss: 4.299\n",
            "Epoch: 02 | Time: 0m 52s\n",
            "\tTrain Loss: 4.249\n",
            "\t Val. Loss: 4.009\n",
            "Epoch: 03 | Time: 0m 52s\n",
            "\tTrain Loss: 3.994\n",
            "\t Val. Loss: 3.855\n",
            "Epoch: 04 | Time: 0m 53s\n",
            "\tTrain Loss: 3.781\n",
            "\t Val. Loss: 3.709\n",
            "Epoch: 05 | Time: 0m 52s\n",
            "\tTrain Loss: 3.586\n",
            "\t Val. Loss: 3.566\n",
            "Epoch: 06 | Time: 0m 52s\n",
            "\tTrain Loss: 3.403\n",
            "\t Val. Loss: 3.458\n",
            "Epoch: 07 | Time: 0m 52s\n",
            "\tTrain Loss: 3.242\n",
            "\t Val. Loss: 3.416\n",
            "Epoch: 08 | Time: 0m 52s\n",
            "\tTrain Loss: 3.093\n",
            "\t Val. Loss: 3.384\n",
            "Epoch: 09 | Time: 0m 52s\n",
            "\tTrain Loss: 2.957\n",
            "\t Val. Loss: 3.333\n",
            "Epoch: 10 | Time: 0m 52s\n",
            "\tTrain Loss: 2.835\n",
            "\t Val. Loss: 3.316\n"
          ]
        }
      ],
      "source": [
        "N_EPOCHS = 10\n",
        "\n",
        "best_valid_loss = float('inf')\n",
        "\n",
        "for epoch in range(N_EPOCHS):\n",
        "\n",
        "    start_time = time.time()\n",
        "\n",
        "    train_loss = train(model, train_iterator, optimizer, criterion)\n",
        "    valid_loss = evaluate(model, valid_iterator, criterion)\n",
        "\n",
        "    end_time = time.time()\n",
        "\n",
        "    epoch_mins, epoch_secs = epoch_time(start_time, end_time)\n",
        "\n",
        "    if valid_loss < best_valid_loss:\n",
        "        best_valid_loss = valid_loss\n",
        "        torch.save(model.state_dict(), 'my-model-1-b.pt')\n",
        "\n",
        "    print(f'Epoch: {epoch+1:02} | Time: {epoch_mins}m {epoch_secs}s')\n",
        "    print(f'\\tTrain Loss: {train_loss:.3f}')\n",
        "    print(f'\\t Val. Loss: {valid_loss:.3f}')"
      ]
    },
    {
      "cell_type": "code",
      "execution_count": 65,
      "metadata": {
        "colab": {
          "base_uri": "https://localhost:8080/"
        },
        "id": "V55lmzq0cXYV",
        "outputId": "2c083890-877b-40ac-8c4f-4a2d4e47f759"
      },
      "outputs": [
        {
          "output_type": "stream",
          "name": "stdout",
          "text": [
            "| Test Loss: 3.343\n"
          ]
        }
      ],
      "source": [
        "model.load_state_dict(torch.load('my-model-1-b.pt'))\n",
        "\n",
        "test_loss = evaluate(model, test_iterator, criterion)\n",
        "\n",
        "print(f'| Test Loss: {test_loss:.3f}')"
      ]
    },
    {
      "cell_type": "markdown",
      "metadata": {
        "id": "bpZoVzJxcXYW"
      },
      "source": [
        "### Inference"
      ]
    },
    {
      "cell_type": "code",
      "execution_count": 66,
      "metadata": {
        "id": "pA9XccJLzuWC"
      },
      "outputs": [],
      "source": [
        "def translate_sentence(sentence, src_field, trg_field, model, device, max_len = 50):\n",
        "\n",
        "    model.eval()\n",
        "\n",
        "    # TODO: write your code\n",
        "\n",
        "    if isinstance(sentence, str):\n",
        "        de_processor = spacy.load(\"de_core_news_sm\")\n",
        "        tokens = [token.text.lower() for token in de_processor(sentence)]\n",
        "    else:\n",
        "        tokens = [token.lower() for token in sentence]\n",
        "\n",
        "    tokens = [src_field.init_token] + tokens + [src_field.eos_token]\n",
        "    src_indices = [src_field.vocab.stoi[token] for token in tokens]\n",
        "    src_tensor = rearrange(torch.LongTensor(src_indices), \"i -> i 1\").to(device)\n",
        "\n",
        "    with torch.no_grad():\n",
        "        dec_init_state, hidden_and_cell = model.encoder(src_tensor)\n",
        "\n",
        "    trg_indices = [trg_field.vocab.stoi[trg_field.init_token]]\n",
        "    attentions = torch.zeros(max_len, 1, len(src_indices)).to(device)\n",
        "\n",
        "    for i in range(max_len):\n",
        "        trg_tensor = torch.LongTensor([trg_indices[-1]]).to(device)\n",
        "\n",
        "        with torch.no_grad():\n",
        "            output, hidden_and_cell, attention = model.decoder(trg_tensor, hidden_and_cell, dec_init_state)\n",
        "\n",
        "        attentions[i] = attention\n",
        "        pred_token = output.argmax(1).item()\n",
        "        trg_indices.append(pred_token)\n",
        "\n",
        "        if pred_token == trg_field.vocab.stoi[trg_field.eos_token]:\n",
        "            break\n",
        "\n",
        "    trg_tokens = [trg_field.vocab.itos[i] for i in trg_indices]\n",
        "    decoded_words = trg_tokens[1:]\n",
        "    decoder_attentions = rearrange(attentions[:len(trg_tokens)-1].detach().cpu(), \"m 1 n -> m n\")\n",
        "    return decoded_words, decoder_attentions"
      ]
    },
    {
      "cell_type": "code",
      "execution_count": 67,
      "metadata": {
        "colab": {
          "base_uri": "https://localhost:8080/"
        },
        "id": "Llf4AssbcXYX",
        "outputId": "484b5108-10ec-4494-fbcd-dda163bd2001"
      },
      "outputs": [
        {
          "output_type": "stream",
          "name": "stdout",
          "text": [
            "src = ['ein', 'brauner', 'hund', 'rennt', 'dem', 'schwarzen', 'hund', 'hinterher', '.']\n",
            "trg = ['a', 'brown', 'dog', 'is', 'running', 'after', 'the', 'black', 'dog', '.']\n"
          ]
        }
      ],
      "source": [
        "example_idx = 6\n",
        "\n",
        "src = vars(valid_data.examples[example_idx])['src']\n",
        "trg = vars(valid_data.examples[example_idx])['trg']\n",
        "\n",
        "print(f'src = {src}')\n",
        "print(f'trg = {trg}')"
      ]
    },
    {
      "cell_type": "code",
      "source": [
        "translation, attention = translate_sentence(src, SRC, TRG, model, device)\n",
        "\n",
        "print(f'predicted trg = {translation}')"
      ],
      "metadata": {
        "id": "4wI9K2Gz59_R",
        "colab": {
          "base_uri": "https://localhost:8080/"
        },
        "outputId": "fad13826-2918-4fcf-e633-3310bf27a1c3"
      },
      "execution_count": 68,
      "outputs": [
        {
          "output_type": "stream",
          "name": "stdout",
          "text": [
            "predicted trg = ['a', 'brown', 'dog', 'running', 'running', 'black', 'dog', 'dog', '.', '<eos>']\n"
          ]
        }
      ]
    },
    {
      "cell_type": "markdown",
      "metadata": {
        "id": "NKQx6YwHcXYX"
      },
      "source": [
        "### BLEU\n",
        "- Calculate BLEU for test set"
      ]
    },
    {
      "cell_type": "code",
      "execution_count": 69,
      "metadata": {
        "id": "T80q4GZhcXYX"
      },
      "outputs": [],
      "source": [
        "from torchtext.data.metrics import bleu_score\n",
        "\n",
        "def calculate_bleu(data, src_field, trg_field, model, device, max_len = 50):\n",
        "\n",
        "    trgs = []\n",
        "    pred_trgs = []\n",
        "\n",
        "    for datum in data:\n",
        "\n",
        "        src = vars(datum)['src']\n",
        "        trg = vars(datum)['trg']\n",
        "\n",
        "        pred_trg, _ = translate_sentence(src, src_field, trg_field, model, device, max_len)\n",
        "\n",
        "        #cut off <eos> token\n",
        "        pred_trg = pred_trg[:-1]\n",
        "\n",
        "        pred_trgs.append(pred_trg)\n",
        "        trgs.append([trg])\n",
        "\n",
        "    return bleu_score(pred_trgs, trgs)"
      ]
    },
    {
      "cell_type": "code",
      "execution_count": 70,
      "metadata": {
        "id": "iHPo9sgwcXYX",
        "colab": {
          "base_uri": "https://localhost:8080/"
        },
        "outputId": "d17ba71e-d294-4da6-dd77-f18e3c78eb1f"
      },
      "outputs": [
        {
          "output_type": "stream",
          "name": "stdout",
          "text": [
            "BLEU score = 13.73\n"
          ]
        }
      ],
      "source": [
        "bleu_score = calculate_bleu(test_data, SRC, TRG, model, device)\n",
        "\n",
        "print(f'BLEU score = {bleu_score*100:.2f}')"
      ]
    },
    {
      "cell_type": "markdown",
      "metadata": {
        "id": "NrHeYQcq1S_o"
      },
      "source": [
        "# Use bidirectional LSTMs for the encoder"
      ]
    },
    {
      "cell_type": "markdown",
      "metadata": {
        "id": "RG4DJ9_bA8cM"
      },
      "source": [
        "### Encoder"
      ]
    },
    {
      "cell_type": "code",
      "execution_count": 71,
      "metadata": {
        "id": "1XqXOpxQA8cX"
      },
      "outputs": [],
      "source": [
        "class Encoder(nn.Module):\n",
        "    def __init__(self, input_dim, embed_dim, hidden_dim, num_layers, dropout):\n",
        "        super().__init__()\n",
        "\n",
        "        ## TODO: define your model here\n",
        "\n",
        "        self.hidden_dim = hidden_dim\n",
        "        self.num_layers = num_layers\n",
        "\n",
        "        self.embedding = nn.Embedding(input_dim, embed_dim)\n",
        "        self.net = nn.LSTM(embed_dim, hidden_dim, num_layers, bidirectional=True)\n",
        "        self.fc = nn.Linear(2*hidden_dim, hidden_dim)\n",
        "        self.dropout = nn.Dropout(dropout)\n",
        "\n",
        "    def forward(self, src):\n",
        "\n",
        "        ## TODO: write down the forward step\n",
        "        emb = self.dropout(self.embedding(src)) # (src_n, b, d)\n",
        "\n",
        "        output, (h, c) = self.net(emb)\n",
        "\n",
        "        h = rearrange(h, \"(l d) b h -> l d b h\", l=self.num_layers, d=2) # d: number of directions\n",
        "        h = torch.cat((h[:, 0, :, :], h[:, 1, :, :]), dim=2) # concat forward and backward directions\n",
        "\n",
        "        c = rearrange(c, \"(l d) b h -> l d b h\", l=self.num_layers, d=2)\n",
        "        c = torch.cat((c[:, 0, :, :], c[:, 1, :, :]), dim=2)\n",
        "\n",
        "        hidden = (h, c) # 2 * (1, b, 2h)\n",
        "        return output, hidden\n"
      ]
    },
    {
      "cell_type": "markdown",
      "metadata": {
        "id": "H4CMUDLiA8cX"
      },
      "source": [
        "### Decoder with attention"
      ]
    },
    {
      "cell_type": "code",
      "execution_count": 72,
      "metadata": {
        "id": "Y1MQNdivA8cX"
      },
      "outputs": [],
      "source": [
        "class Decoder(nn.Module):\n",
        "    def __init__(self, output_dim, embed_dim, hidden_dim, num_layers, dropout):\n",
        "        super().__init__()\n",
        "\n",
        "        ## TODO: define your model here\n",
        "\n",
        "        self.output_dim = output_dim\n",
        "        self.hidden_dim = hidden_dim\n",
        "        self.num_layers = num_layers\n",
        "\n",
        "        self.embedding = nn.Embedding(output_dim, embed_dim)\n",
        "        self.net = nn.LSTM(hidden_dim*2+embed_dim, 2*hidden_dim, num_layers)\n",
        "        self.fc_out = nn.Linear(hidden_dim*4+embed_dim, output_dim)\n",
        "        self.dropout = nn.Dropout(dropout)\n",
        "\n",
        "    def forward(self, input, hidden_and_cell, dec_init_state):\n",
        "\n",
        "        ## TODO: write down the forward step\n",
        "\n",
        "        input = rearrange(input, \"b -> 1 b\") # (1, b)\n",
        "        emb = self.dropout(self.embedding(input)) # (1, b, d)\n",
        "        dec_state = dec_init_state\n",
        "        hidden, cell = hidden_and_cell\n",
        "\n",
        "        # basic dot-product attention\n",
        "        src_n, b, _ = dec_state.shape\n",
        "\n",
        "        h = hidden[-1]\n",
        "        h = rearrange(h, \"b h -> b 1 h\") # (b, 1, 2*h)\n",
        "        dec_state = rearrange(dec_state, \"n b h -> b n h\") # (b, src_n, 2*h)\n",
        "\n",
        "        attn = torch.bmm(h, rearrange(dec_state, \"b n h -> b h n\")) # (b, 1, src_n)\n",
        "        attn = rearrange(attn, \"b 1 n -> b n\")\n",
        "\n",
        "        attention = nn.functional.softmax(attn, dim=1) # (b, src_n)\n",
        "        attention = rearrange(attention, \"b n -> b 1 n\")\n",
        "        context = torch.bmm(attention, dec_state) # (b, 1, 2*h)\n",
        "        context = rearrange(context, \"b t h -> t b h\") # (1, b, 2*h)\n",
        "\n",
        "        net_input = torch.cat((emb, context), dim=2) # (1, b, 2*h+d)\n",
        "\n",
        "        net_output, hidden = self.net(net_input, (hidden, cell)) # (1, b, 2*h), (num_layers, b, 2*h) * 2 (hidden, cell)\n",
        "\n",
        "        emb = rearrange(emb, \"1 b d -> b d\") # (b, d)\n",
        "        net_output = rearrange(net_output, \"1 b h -> b h\") # (b, 2*h)\n",
        "        context = rearrange(context, \"1 b h -> b h\") # (b, 2*h)\n",
        "\n",
        "        output = self.fc_out(torch.cat((net_output, context, emb), dim=1)) # (b, out_dim)\n",
        "        attention = rearrange(attention, \"b 1 n -> b n\")\n",
        "        return output, hidden, attention\n"
      ]
    },
    {
      "cell_type": "markdown",
      "metadata": {
        "id": "A4btk7joA8cY"
      },
      "source": [
        "### Sequence-to-sequence model"
      ]
    },
    {
      "cell_type": "code",
      "execution_count": 73,
      "metadata": {
        "id": "rU14jHfEA8cY"
      },
      "outputs": [],
      "source": [
        "class Seq2Seq(nn.Module):\n",
        "    def __init__(self,\n",
        "                 encoder,\n",
        "                 decoder,\n",
        "                 src_pad_idx,\n",
        "                 trg_pad_idx,\n",
        "                 device):\n",
        "        super().__init__()\n",
        "\n",
        "        self.encoder = encoder\n",
        "        self.decoder = decoder\n",
        "        self.src_pad_idx = src_pad_idx\n",
        "        self.trg_pad_idx = trg_pad_idx\n",
        "        self.device = device\n",
        "\n",
        "\n",
        "    def forward(self, src, trg):\n",
        "\n",
        "        ## TODO: write down the forward step\n",
        "\n",
        "        b = src.shape[1]\n",
        "        trg_n = trg.shape[0]\n",
        "        trg_voc_size = self.decoder.output_dim\n",
        "\n",
        "        output = torch.zeros(trg_n, b, trg_voc_size).to(self.device)\n",
        "\n",
        "        dec_init_state, hidden_and_cell = self.encoder(src)\n",
        "\n",
        "        input = trg[0, :]\n",
        "        for t in range(1, trg_n):\n",
        "            dec_output, hidden_and_cell, attention = self.decoder(input, hidden_and_cell, dec_init_state)\n",
        "\n",
        "            output[t] = dec_output\n",
        "\n",
        "            top = dec_output.argmax(1)\n",
        "            input = top\n",
        "\n",
        "        return output, attention"
      ]
    },
    {
      "cell_type": "markdown",
      "metadata": {
        "id": "T6S593cqA8cY"
      },
      "source": [
        "### Training the Seq2Seq Model"
      ]
    },
    {
      "cell_type": "code",
      "execution_count": 74,
      "metadata": {
        "id": "HE8KTPKWA8cY"
      },
      "outputs": [],
      "source": [
        "INPUT_DIM = len(SRC.vocab)\n",
        "OUTPUT_DIM = len(TRG.vocab)\n",
        "# define your hyperparameters here\n",
        "ENC_EMB_DIM = 256\n",
        "DEC_EMB_DIM = 256\n",
        "HIDDEN_DIM = 512\n",
        "NUM_LAYERS = 1\n",
        "DROPOUT = 0.5\n",
        "\n",
        "enc = Encoder(INPUT_DIM, ENC_EMB_DIM, HIDDEN_DIM, NUM_LAYERS, DROPOUT)\n",
        "dec = Decoder(OUTPUT_DIM, DEC_EMB_DIM, HIDDEN_DIM, NUM_LAYERS, DROPOUT)"
      ]
    },
    {
      "cell_type": "code",
      "execution_count": 75,
      "metadata": {
        "id": "XpoA88e-A8cY"
      },
      "outputs": [],
      "source": [
        "SRC_PAD_IDX = SRC.vocab.stoi[SRC.pad_token]\n",
        "TRG_PAD_IDX = TRG.vocab.stoi[TRG.pad_token]\n",
        "\n",
        "model = Seq2Seq(enc, dec, SRC_PAD_IDX, TRG_PAD_IDX, device).to(device)"
      ]
    },
    {
      "cell_type": "markdown",
      "metadata": {
        "id": "tIuSPZjkA8cZ"
      },
      "source": [
        "We initialize model weights"
      ]
    },
    {
      "cell_type": "code",
      "execution_count": 76,
      "metadata": {
        "id": "P-_FehlHA8cZ"
      },
      "outputs": [],
      "source": [
        "def initialize_weights(m):\n",
        "    if hasattr(m, 'weight') and m.weight.dim() > 1:\n",
        "        nn.init.xavier_uniform_(m.weight.data)\n",
        "\n",
        "model.apply(initialize_weights);"
      ]
    },
    {
      "cell_type": "markdown",
      "metadata": {
        "id": "evf2S0PqA8cZ"
      },
      "source": [
        "We use Adam as our optimizer and CrossEntropyLoss. Also we set to ignore <pad> token in calculating loss"
      ]
    },
    {
      "cell_type": "code",
      "execution_count": 77,
      "metadata": {
        "id": "q6nK7MjkA8cZ"
      },
      "outputs": [],
      "source": [
        "LEARNING_RATE = 0.0005\n",
        "\n",
        "optimizer = torch.optim.Adam(model.parameters(), lr = LEARNING_RATE)"
      ]
    },
    {
      "cell_type": "code",
      "execution_count": 78,
      "metadata": {
        "id": "bsKUuoUxA8cZ"
      },
      "outputs": [],
      "source": [
        "criterion = nn.CrossEntropyLoss(ignore_index = TRG_PAD_IDX)"
      ]
    },
    {
      "cell_type": "markdown",
      "metadata": {
        "id": "9sChh5zZA8cZ"
      },
      "source": [
        "### Training"
      ]
    },
    {
      "cell_type": "code",
      "execution_count": 79,
      "metadata": {
        "id": "NzZNczsBA8cZ"
      },
      "outputs": [],
      "source": [
        "def train(model, iterator, optimizer, criterion):\n",
        "\n",
        "    model.train()\n",
        "\n",
        "    epoch_loss = 0\n",
        "\n",
        "    for i, batch in enumerate(iterator):\n",
        "\n",
        "        src = batch.src\n",
        "        trg = batch.trg\n",
        "\n",
        "        optimizer.zero_grad()\n",
        "\n",
        "        # TODO: write down your training code here\n",
        "\n",
        "        src = rearrange(src, \"b n -> n b\")\n",
        "        trg = rearrange(trg, \"b n -> n b\")\n",
        "        output, attention = model(src, trg)\n",
        "\n",
        "        output = rearrange(output[1:], \"n b d -> (n b) d\") # ((trg_n-1)*b, out_d)\n",
        "        trg = rearrange(trg[1:], \"n b -> (n b)\") # ((trg_n-1)*b)\n",
        "\n",
        "        loss = criterion(output, trg)\n",
        "\n",
        "        loss.backward()\n",
        "        optimizer.step()\n",
        "\n",
        "        epoch_loss += loss.item()\n",
        "\n",
        "    return epoch_loss / len(iterator)"
      ]
    },
    {
      "cell_type": "markdown",
      "metadata": {
        "id": "72UgOLaTA8cb"
      },
      "source": [
        "### Evaluation"
      ]
    },
    {
      "cell_type": "code",
      "execution_count": 81,
      "metadata": {
        "id": "P3t4op32A8cb"
      },
      "outputs": [],
      "source": [
        "def evaluate(model, iterator, criterion):\n",
        "\n",
        "    model.eval()\n",
        "\n",
        "    epoch_loss = 0\n",
        "\n",
        "    with torch.no_grad():\n",
        "\n",
        "        for i, batch in enumerate(iterator):\n",
        "\n",
        "            src = batch.src\n",
        "            trg = batch.trg\n",
        "\n",
        "            # TODO: write down your training code here\n",
        "\n",
        "            src = rearrange(src, \"b n -> n b\")\n",
        "            trg = rearrange(trg, \"b n -> n b\")\n",
        "\n",
        "            output, attention = model(src, trg)\n",
        "\n",
        "            output = rearrange(output[1:], \"n b d -> (n b) d\") # ((trg_n-1)*b, out_d)\n",
        "            trg = rearrange(trg[1:], \"n b -> (n b)\") # ((trg_n-1)*b)\n",
        "\n",
        "            loss = criterion(output, trg)\n",
        "\n",
        "            epoch_loss += loss.item()\n",
        "\n",
        "    return epoch_loss / len(iterator)"
      ]
    },
    {
      "cell_type": "code",
      "execution_count": 82,
      "metadata": {
        "id": "LFzQCMCgA8cb"
      },
      "outputs": [],
      "source": [
        "def epoch_time(start_time, end_time):\n",
        "    elapsed_time = end_time - start_time\n",
        "    elapsed_mins = int(elapsed_time / 60)\n",
        "    elapsed_secs = int(elapsed_time - (elapsed_mins * 60))\n",
        "    return elapsed_mins, elapsed_secs"
      ]
    },
    {
      "cell_type": "markdown",
      "metadata": {
        "id": "QebbLd26A8cb"
      },
      "source": [
        "### Train the model through multiple epochs"
      ]
    },
    {
      "cell_type": "code",
      "execution_count": 83,
      "metadata": {
        "colab": {
          "base_uri": "https://localhost:8080/"
        },
        "id": "LEn6ohgeA8cb",
        "outputId": "feebbd08-482c-414f-aba1-d052e64a0a93"
      },
      "outputs": [
        {
          "output_type": "stream",
          "name": "stdout",
          "text": [
            "Epoch: 01 | Time: 1m 19s\n",
            "\tTrain Loss: 4.693\n",
            "\t Val. Loss: 4.479\n",
            "Epoch: 02 | Time: 1m 19s\n",
            "\tTrain Loss: 4.406\n",
            "\t Val. Loss: 4.214\n",
            "Epoch: 03 | Time: 1m 19s\n",
            "\tTrain Loss: 4.176\n",
            "\t Val. Loss: 4.045\n",
            "Epoch: 04 | Time: 1m 18s\n",
            "\tTrain Loss: 3.956\n",
            "\t Val. Loss: 3.867\n",
            "Epoch: 05 | Time: 1m 18s\n",
            "\tTrain Loss: 3.738\n",
            "\t Val. Loss: 3.709\n",
            "Epoch: 06 | Time: 1m 18s\n",
            "\tTrain Loss: 3.542\n",
            "\t Val. Loss: 3.590\n",
            "Epoch: 07 | Time: 1m 18s\n",
            "\tTrain Loss: 3.362\n",
            "\t Val. Loss: 3.514\n",
            "Epoch: 08 | Time: 1m 18s\n",
            "\tTrain Loss: 3.213\n",
            "\t Val. Loss: 3.462\n",
            "Epoch: 09 | Time: 1m 18s\n",
            "\tTrain Loss: 3.062\n",
            "\t Val. Loss: 3.401\n",
            "Epoch: 10 | Time: 1m 19s\n",
            "\tTrain Loss: 2.906\n",
            "\t Val. Loss: 3.392\n"
          ]
        }
      ],
      "source": [
        "N_EPOCHS = 10\n",
        "\n",
        "best_valid_loss = float('inf')\n",
        "\n",
        "for epoch in range(N_EPOCHS):\n",
        "\n",
        "    start_time = time.time()\n",
        "\n",
        "    train_loss = train(model, train_iterator, optimizer, criterion)\n",
        "    valid_loss = evaluate(model, valid_iterator, criterion)\n",
        "\n",
        "    end_time = time.time()\n",
        "\n",
        "    epoch_mins, epoch_secs = epoch_time(start_time, end_time)\n",
        "\n",
        "    if valid_loss < best_valid_loss:\n",
        "        best_valid_loss = valid_loss\n",
        "        torch.save(model.state_dict(), 'my-model-1-c.pt')\n",
        "\n",
        "    print(f'Epoch: {epoch+1:02} | Time: {epoch_mins}m {epoch_secs}s')\n",
        "    print(f'\\tTrain Loss: {train_loss:.3f}')\n",
        "    print(f'\\t Val. Loss: {valid_loss:.3f}')"
      ]
    },
    {
      "cell_type": "code",
      "execution_count": 84,
      "metadata": {
        "colab": {
          "base_uri": "https://localhost:8080/"
        },
        "id": "VBa4J8rZA8cc",
        "outputId": "1ca074ad-ca0c-4942-fed3-ba83c1127a8b"
      },
      "outputs": [
        {
          "output_type": "stream",
          "name": "stdout",
          "text": [
            "| Test Loss: 3.390\n"
          ]
        }
      ],
      "source": [
        "model.load_state_dict(torch.load('my-model-1-c.pt'))\n",
        "\n",
        "test_loss = evaluate(model, test_iterator, criterion)\n",
        "\n",
        "print(f'| Test Loss: {test_loss:.3f}')"
      ]
    },
    {
      "cell_type": "markdown",
      "metadata": {
        "id": "0awScLcJA8cc"
      },
      "source": [
        "### Inference and attention visualization"
      ]
    },
    {
      "cell_type": "code",
      "execution_count": 85,
      "metadata": {
        "id": "Vvjzd1WTA8cc"
      },
      "outputs": [],
      "source": [
        "def translate_sentence(sentence, src_field, trg_field, model, device, max_len = 50):\n",
        "\n",
        "    model.eval()\n",
        "\n",
        "    # TODO: write your code\n",
        "\n",
        "    if isinstance(sentence, str):\n",
        "        de_processor = spacy.load(\"de_core_news_sm\")\n",
        "        tokens = [token.text.lower() for token in de_processor(sentence)]\n",
        "    else:\n",
        "        tokens = [token.lower() for token in sentence]\n",
        "\n",
        "    tokens = [src_field.init_token] + tokens + [src_field.eos_token]\n",
        "    src_indices = [src_field.vocab.stoi[token] for token in tokens]\n",
        "    src_tensor = rearrange(torch.LongTensor(src_indices), \"i -> i 1\").to(device)\n",
        "\n",
        "    with torch.no_grad():\n",
        "        dec_init_state, hidden_and_cell = model.encoder(src_tensor)\n",
        "\n",
        "    trg_indices = [trg_field.vocab.stoi[trg_field.init_token]]\n",
        "    attentions = torch.zeros(max_len, 1, len(src_indices)).to(device)\n",
        "\n",
        "    for i in range(max_len):\n",
        "        trg_tensor = torch.LongTensor([trg_indices[-1]]).to(device)\n",
        "\n",
        "        with torch.no_grad():\n",
        "            output, hidden_and_cell, attention = model.decoder(trg_tensor, hidden_and_cell, dec_init_state)\n",
        "\n",
        "        attentions[i] = attention\n",
        "        pred_token = output.argmax(1).item()\n",
        "        trg_indices.append(pred_token)\n",
        "\n",
        "        if pred_token == trg_field.vocab.stoi[trg_field.eos_token]:\n",
        "            break\n",
        "\n",
        "    trg_tokens = [trg_field.vocab.itos[i] for i in trg_indices]\n",
        "    decoded_words = trg_tokens[1:]\n",
        "    decoder_attentions = rearrange(attentions[:len(trg_tokens)-1].detach().cpu(), \"m 1 n -> m n\")\n",
        "    return decoded_words, decoder_attentions"
      ]
    },
    {
      "cell_type": "code",
      "execution_count": 86,
      "metadata": {
        "colab": {
          "base_uri": "https://localhost:8080/"
        },
        "id": "0ZaBZNKfA8cc",
        "outputId": "a15fb115-53ab-445e-ab88-b0ce8ceb869c"
      },
      "outputs": [
        {
          "output_type": "stream",
          "name": "stdout",
          "text": [
            "src = ['ein', 'brauner', 'hund', 'rennt', 'dem', 'schwarzen', 'hund', 'hinterher', '.']\n",
            "trg = ['a', 'brown', 'dog', 'is', 'running', 'after', 'the', 'black', 'dog', '.']\n"
          ]
        }
      ],
      "source": [
        "example_idx = 6\n",
        "\n",
        "src = vars(valid_data.examples[example_idx])['src']\n",
        "trg = vars(valid_data.examples[example_idx])['trg']\n",
        "\n",
        "print(f'src = {src}')\n",
        "print(f'trg = {trg}')"
      ]
    },
    {
      "cell_type": "code",
      "execution_count": 87,
      "metadata": {
        "colab": {
          "base_uri": "https://localhost:8080/"
        },
        "id": "bn0GpDaKA8cd",
        "outputId": "600e884e-f3e3-49e4-fe58-4349904f4824"
      },
      "outputs": [
        {
          "output_type": "stream",
          "name": "stdout",
          "text": [
            "predicted trg = ['a', 'brown', 'dog', 'is', 'running', 'a', 'black', 'dog', '.', '<eos>']\n"
          ]
        }
      ],
      "source": [
        "translation, attention = translate_sentence(src, SRC, TRG, model, device)\n",
        "\n",
        "print(f'predicted trg = {translation}')"
      ]
    },
    {
      "cell_type": "markdown",
      "metadata": {
        "id": "8nKhOgRFA8cd"
      },
      "source": [
        "### BLEU\n",
        "- Calculate BLEU for test set"
      ]
    },
    {
      "cell_type": "code",
      "execution_count": 88,
      "metadata": {
        "id": "MJBR2ginA8cd"
      },
      "outputs": [],
      "source": [
        "from torchtext.data.metrics import bleu_score\n",
        "\n",
        "def calculate_bleu(data, src_field, trg_field, model, device, max_len = 50):\n",
        "\n",
        "    trgs = []\n",
        "    pred_trgs = []\n",
        "\n",
        "    for datum in data:\n",
        "\n",
        "        src = vars(datum)['src']\n",
        "        trg = vars(datum)['trg']\n",
        "\n",
        "        pred_trg, _ = translate_sentence(src, src_field, trg_field, model, device, max_len)\n",
        "\n",
        "        #cut off <eos> token\n",
        "        pred_trg = pred_trg[:-1]\n",
        "\n",
        "        pred_trgs.append(pred_trg)\n",
        "        trgs.append([trg])\n",
        "\n",
        "    return bleu_score(pred_trgs, trgs)"
      ]
    },
    {
      "cell_type": "code",
      "execution_count": 89,
      "metadata": {
        "id": "z7ZMtG__A8cd",
        "colab": {
          "base_uri": "https://localhost:8080/"
        },
        "outputId": "e63c1879-ab00-4a9d-ed55-d3872feaf0c0"
      },
      "outputs": [
        {
          "output_type": "stream",
          "name": "stdout",
          "text": [
            "BLEU score = 10.60\n"
          ]
        }
      ],
      "source": [
        "bleu_score = calculate_bleu(test_data, SRC, TRG, model, device)\n",
        "\n",
        "print(f'BLEU score = {bleu_score*100:.2f}')"
      ]
    },
    {
      "cell_type": "markdown",
      "metadata": {
        "id": "kET2rSxX1Ye7"
      },
      "source": [
        "# Model with Additive Attention instead of Dot-product Attention"
      ]
    },
    {
      "cell_type": "markdown",
      "metadata": {
        "id": "C_O_vN0SzuWI"
      },
      "source": [
        "### Encoder"
      ]
    },
    {
      "cell_type": "code",
      "execution_count": 90,
      "metadata": {
        "id": "5FJ6ye9BzuWI"
      },
      "outputs": [],
      "source": [
        "class Encoder(nn.Module):\n",
        "    def __init__(self, input_dim, embed_dim, hidden_dim, num_layers, dropout):\n",
        "        super().__init__()\n",
        "\n",
        "        ## TODO: define your model here\n",
        "\n",
        "        self.hidden_dim = hidden_dim\n",
        "        self.num_layers = num_layers\n",
        "\n",
        "        self.embedding = nn.Embedding(input_dim, embed_dim)\n",
        "        self.net = nn.GRU(embed_dim, hidden_dim, num_layers, bidirectional=True)\n",
        "        self.fc = nn.Linear(2*hidden_dim, hidden_dim)\n",
        "        self.dropout = nn.Dropout(dropout)\n",
        "\n",
        "    def forward(self, src):\n",
        "\n",
        "        ## TODO: write down the forward step\n",
        "        emb = self.dropout(self.embedding(src)) # (src_n, b, d)\n",
        "\n",
        "        output, hidden = self.net(emb) # (src_n, b, num_dir*h), (num_dir*num_layers, b, h)\n",
        "\n",
        "        hidden = torch.tanh(self.fc(torch.cat((hidden[-2, :, :], hidden[-1, :, :]), dim=1))) # (b, h)\n",
        "\n",
        "        return output, hidden"
      ]
    },
    {
      "cell_type": "markdown",
      "metadata": {
        "id": "Dva1XfMKzuWI"
      },
      "source": [
        "### Decoder with additive attention"
      ]
    },
    {
      "cell_type": "code",
      "execution_count": 91,
      "metadata": {
        "id": "SqFmudl0zuWI"
      },
      "outputs": [],
      "source": [
        "class Decoder(nn.Module):\n",
        "    def __init__(self, output_dim, embed_dim, hidden_dim, num_layers, dropout):\n",
        "        super().__init__()\n",
        "\n",
        "        ## TODO: define your model here\n",
        "\n",
        "        self.output_dim = output_dim\n",
        "        self.hidden_dim = hidden_dim\n",
        "        self.num_layers = num_layers\n",
        "\n",
        "        # for attention\n",
        "        self.attn = nn.Linear(hidden_dim*3, hidden_dim)\n",
        "        self.v = nn.Linear(hidden_dim, 1, bias=False)\n",
        "\n",
        "        self.embedding = nn.Embedding(output_dim, embed_dim)\n",
        "        self.net = nn.GRU(hidden_dim*2+embed_dim, hidden_dim, num_layers)\n",
        "        self.fc_out = nn.Linear(hidden_dim*3+embed_dim, output_dim)\n",
        "        self.dropout = nn.Dropout(dropout)\n",
        "\n",
        "    def forward(self, input, hidden, dec_init_state):\n",
        "\n",
        "        ## TODO: write down the forward step\n",
        "\n",
        "        input = rearrange(input, \"b -> 1 b\") # (1, b)\n",
        "        emb = self.dropout(self.embedding(input)) # (1, b, d)\n",
        "        dec_state = dec_init_state\n",
        "\n",
        "        # basic dot-product attention\n",
        "        src_n, b, _ = dec_state.shape\n",
        "\n",
        "        if hidden.dim() == 3:\n",
        "            hidden = hidden[-1]\n",
        "        elif hidden.dim() == 2:\n",
        "            hidden = hidden\n",
        "        else:\n",
        "            raise ValueError()\n",
        "        h = repeat(hidden, \"b h -> b n h\", n=src_n) # (b, src_n, h)\n",
        "        dec_state = rearrange(dec_state, \"n b h -> b n h\") # (b, src_n, 2*h)\n",
        "\n",
        "        e = self.v(torch.tanh(self.attn(torch.cat((h, dec_state), dim=2)))) # (b, src_n, 1)\n",
        "        e = rearrange(e, \"b n 1 -> b n\")\n",
        "\n",
        "        attention = nn.functional.softmax(e, dim=1) # (b, src_n)\n",
        "        attention = rearrange(attention, \"b n -> b 1 n\")\n",
        "\n",
        "        context = torch.einsum(\"b t n, b n h -> b t h\", attention, dec_state) # (b, 1, 2*h)\n",
        "        context = rearrange(context, \"b t h -> t b h\") # (1, b, 2*h)\n",
        "\n",
        "        net_input = torch.cat((emb, context), dim=2) # (1, b, 2*h+d)\n",
        "        hidden = rearrange(hidden, \"b h -> 1 b h\") # (1, b, h)\n",
        "\n",
        "        net_output, hidden = self.net(net_input, hidden) # (num_layers, b, h), (num_layers, b, h)\n",
        "\n",
        "        emb = rearrange(emb, \"1 b d -> b d\") # (b, d)\n",
        "        net_output = rearrange(net_output, \"1 b h -> b h\") # (b, h)\n",
        "        context = rearrange(context, \"1 b h -> b h\") # (b, 2*h)\n",
        "\n",
        "        output = self.fc_out(torch.cat((net_output, context, emb), dim=1)) # (b, out_dim)\n",
        "        attention = rearrange(attention, \"b 1 n -> b n\")\n",
        "        return output, hidden, attention\n"
      ]
    },
    {
      "cell_type": "markdown",
      "metadata": {
        "id": "qULhIWtDzuWJ"
      },
      "source": [
        "### Sequence-to-sequence model"
      ]
    },
    {
      "cell_type": "code",
      "execution_count": 92,
      "metadata": {
        "id": "GY082eTezuWJ"
      },
      "outputs": [],
      "source": [
        "class Seq2Seq(nn.Module):\n",
        "    def __init__(self,\n",
        "                 encoder,\n",
        "                 decoder,\n",
        "                 src_pad_idx,\n",
        "                 trg_pad_idx,\n",
        "                 device):\n",
        "        super().__init__()\n",
        "\n",
        "        self.encoder = encoder\n",
        "        self.decoder = decoder\n",
        "        self.src_pad_idx = src_pad_idx\n",
        "        self.trg_pad_idx = trg_pad_idx\n",
        "        self.device = device\n",
        "\n",
        "\n",
        "    def forward(self, src, trg):\n",
        "\n",
        "        ## TODO: write down the forward step\n",
        "\n",
        "        b = src.shape[1]\n",
        "        trg_n = trg.shape[0]\n",
        "        trg_voc_size = self.decoder.output_dim\n",
        "\n",
        "        output = torch.zeros(trg_n, b, trg_voc_size).to(self.device)\n",
        "\n",
        "        dec_init_state, hidden = self.encoder(src) # hidden: hidden and cell if using LSTM\n",
        "\n",
        "        input = trg[0, :]\n",
        "        for t in range(1, trg_n):\n",
        "            dec_output, hidden, attention = self.decoder(input, hidden, dec_init_state)\n",
        "\n",
        "            output[t] = dec_output\n",
        "\n",
        "            top = dec_output.argmax(1)\n",
        "            input = top\n",
        "\n",
        "        return output, attention"
      ]
    },
    {
      "cell_type": "markdown",
      "metadata": {
        "id": "25TV0vmazuWJ"
      },
      "source": [
        "### Training the Seq2Seq Model"
      ]
    },
    {
      "cell_type": "code",
      "execution_count": 93,
      "metadata": {
        "id": "6NGss158zuWJ"
      },
      "outputs": [],
      "source": [
        "INPUT_DIM = len(SRC.vocab)\n",
        "OUTPUT_DIM = len(TRG.vocab)\n",
        "# define your hyperparameters here\n",
        "ENC_EMB_DIM = 256\n",
        "DEC_EMB_DIM = 256\n",
        "HIDDEN_DIM = 512\n",
        "NUM_LAYERS = 1\n",
        "DROPOUT = 0.5\n",
        "\n",
        "enc = Encoder(INPUT_DIM, ENC_EMB_DIM, HIDDEN_DIM, NUM_LAYERS, DROPOUT)\n",
        "dec = Decoder(OUTPUT_DIM, DEC_EMB_DIM, HIDDEN_DIM, NUM_LAYERS, DROPOUT)"
      ]
    },
    {
      "cell_type": "code",
      "execution_count": 94,
      "metadata": {
        "id": "Djbkz8-nzuWJ"
      },
      "outputs": [],
      "source": [
        "SRC_PAD_IDX = SRC.vocab.stoi[SRC.pad_token]\n",
        "TRG_PAD_IDX = TRG.vocab.stoi[TRG.pad_token]\n",
        "\n",
        "model = Seq2Seq(enc, dec, SRC_PAD_IDX, TRG_PAD_IDX, device).to(device)"
      ]
    },
    {
      "cell_type": "markdown",
      "metadata": {
        "id": "gEvwX-F8zuWJ"
      },
      "source": [
        "We initialize model weights"
      ]
    },
    {
      "cell_type": "code",
      "execution_count": 95,
      "metadata": {
        "id": "FsHdRvbFzuWJ"
      },
      "outputs": [],
      "source": [
        "def initialize_weights(m):\n",
        "    if hasattr(m, 'weight') and m.weight.dim() > 1:\n",
        "        nn.init.xavier_uniform_(m.weight.data)\n",
        "\n",
        "model.apply(initialize_weights);"
      ]
    },
    {
      "cell_type": "markdown",
      "metadata": {
        "id": "a2XN8aoQzuWJ"
      },
      "source": [
        "We use Adam as our optimizer and CrossEntropyLoss. Also we set to ignore <pad> token in calculating loss"
      ]
    },
    {
      "cell_type": "code",
      "execution_count": 96,
      "metadata": {
        "id": "g2ZBxXRpzuWK"
      },
      "outputs": [],
      "source": [
        "LEARNING_RATE = 0.0005\n",
        "\n",
        "optimizer = torch.optim.Adam(model.parameters(), lr = LEARNING_RATE)"
      ]
    },
    {
      "cell_type": "code",
      "execution_count": 97,
      "metadata": {
        "id": "hVyRfjz6zuWK"
      },
      "outputs": [],
      "source": [
        "criterion = nn.CrossEntropyLoss(ignore_index = TRG_PAD_IDX)"
      ]
    },
    {
      "cell_type": "markdown",
      "metadata": {
        "id": "JsqM24y1zuWK"
      },
      "source": [
        "### Training"
      ]
    },
    {
      "cell_type": "code",
      "execution_count": 98,
      "metadata": {
        "id": "KIOa93k_zuWK"
      },
      "outputs": [],
      "source": [
        "def train(model, iterator, optimizer, criterion):\n",
        "\n",
        "    model.train()\n",
        "\n",
        "    epoch_loss = 0\n",
        "\n",
        "    for i, batch in enumerate(iterator):\n",
        "\n",
        "        src = batch.src\n",
        "        trg = batch.trg\n",
        "\n",
        "        optimizer.zero_grad()\n",
        "\n",
        "        # TODO: write down your training code here\n",
        "\n",
        "        src = rearrange(src, \"b n -> n b\")\n",
        "        trg = rearrange(trg, \"b n -> n b\")\n",
        "        output, attention = model(src, trg)\n",
        "\n",
        "        output = rearrange(output[1:], \"n b d -> (n b) d\") # ((trg_n-1)*b, out_d)\n",
        "        trg = rearrange(trg[1:], \"n b -> (n b)\") # ((trg_n-1)*b)\n",
        "\n",
        "        loss = criterion(output, trg)\n",
        "\n",
        "        loss.backward()\n",
        "        optimizer.step()\n",
        "\n",
        "        epoch_loss += loss.item()\n",
        "\n",
        "    return epoch_loss / len(iterator)"
      ]
    },
    {
      "cell_type": "markdown",
      "metadata": {
        "id": "ZbYQD2E5zuWK"
      },
      "source": [
        "### Evaluation"
      ]
    },
    {
      "cell_type": "code",
      "execution_count": 100,
      "metadata": {
        "id": "3wEoEIsdzuWK"
      },
      "outputs": [],
      "source": [
        "def evaluate(model, iterator, criterion):\n",
        "\n",
        "    model.eval()\n",
        "\n",
        "    epoch_loss = 0\n",
        "\n",
        "    with torch.no_grad():\n",
        "\n",
        "        for i, batch in enumerate(iterator):\n",
        "\n",
        "            src = batch.src\n",
        "            trg = batch.trg\n",
        "\n",
        "            # TODO: write down your training code here\n",
        "\n",
        "            src = rearrange(src, \"b n -> n b\")\n",
        "            trg = rearrange(trg, \"b n -> n b\")\n",
        "\n",
        "            output, attention = model(src, trg)\n",
        "\n",
        "            output = rearrange(output[1:], \"n b d -> (n b) d\") # ((trg_n-1)*b, out_d)\n",
        "            trg = rearrange(trg[1:], \"n b -> (n b)\") # ((trg_n-1)*b)\n",
        "\n",
        "            loss = criterion(output, trg)\n",
        "\n",
        "            epoch_loss += loss.item()\n",
        "\n",
        "    return epoch_loss / len(iterator)"
      ]
    },
    {
      "cell_type": "markdown",
      "metadata": {
        "id": "rBjUSSh6zuWL"
      },
      "source": [
        "### Train the model through multiple epochs"
      ]
    },
    {
      "cell_type": "code",
      "execution_count": 101,
      "metadata": {
        "colab": {
          "base_uri": "https://localhost:8080/"
        },
        "outputId": "2b876601-d4ec-4659-f69b-d4ce25072812",
        "id": "nRMge1EQzuWL"
      },
      "outputs": [
        {
          "output_type": "stream",
          "name": "stdout",
          "text": [
            "Epoch: 01 | Time: 1m 30s\n",
            "\tTrain Loss: 4.836\n",
            "\t Val. Loss: 4.840\n",
            "Epoch: 02 | Time: 1m 30s\n",
            "\tTrain Loss: 4.569\n",
            "\t Val. Loss: 4.358\n",
            "Epoch: 03 | Time: 1m 30s\n",
            "\tTrain Loss: 4.214\n",
            "\t Val. Loss: 3.923\n",
            "Epoch: 04 | Time: 1m 30s\n",
            "\tTrain Loss: 3.826\n",
            "\t Val. Loss: 3.579\n",
            "Epoch: 05 | Time: 1m 29s\n",
            "\tTrain Loss: 3.530\n",
            "\t Val. Loss: 3.333\n",
            "Epoch: 06 | Time: 1m 29s\n",
            "\tTrain Loss: 3.280\n",
            "\t Val. Loss: 3.222\n",
            "Epoch: 07 | Time: 1m 29s\n",
            "\tTrain Loss: 3.075\n",
            "\t Val. Loss: 3.105\n",
            "Epoch: 08 | Time: 1m 29s\n",
            "\tTrain Loss: 2.892\n",
            "\t Val. Loss: 3.028\n",
            "Epoch: 09 | Time: 1m 30s\n",
            "\tTrain Loss: 2.726\n",
            "\t Val. Loss: 2.989\n",
            "Epoch: 10 | Time: 1m 29s\n",
            "\tTrain Loss: 2.573\n",
            "\t Val. Loss: 2.965\n"
          ]
        }
      ],
      "source": [
        "N_EPOCHS = 10\n",
        "\n",
        "best_valid_loss = float('inf')\n",
        "\n",
        "for epoch in range(N_EPOCHS):\n",
        "\n",
        "    start_time = time.time()\n",
        "\n",
        "    train_loss = train(model, train_iterator, optimizer, criterion)\n",
        "    valid_loss = evaluate(model, valid_iterator, criterion)\n",
        "\n",
        "    end_time = time.time()\n",
        "\n",
        "    epoch_mins, epoch_secs = epoch_time(start_time, end_time)\n",
        "\n",
        "    if valid_loss < best_valid_loss:\n",
        "        best_valid_loss = valid_loss\n",
        "        torch.save(model.state_dict(), 'my-model-1-d.pt')\n",
        "\n",
        "    print(f'Epoch: {epoch+1:02} | Time: {epoch_mins}m {epoch_secs}s')\n",
        "    print(f'\\tTrain Loss: {train_loss:.3f}')\n",
        "    print(f'\\t Val. Loss: {valid_loss:.3f}')"
      ]
    },
    {
      "cell_type": "code",
      "execution_count": 102,
      "metadata": {
        "colab": {
          "base_uri": "https://localhost:8080/"
        },
        "outputId": "c0766d13-070d-4928-ba32-1e8f8f425a41",
        "id": "HkNqQOJ3zuWL"
      },
      "outputs": [
        {
          "output_type": "stream",
          "name": "stdout",
          "text": [
            "| Test Loss: 2.965\n"
          ]
        }
      ],
      "source": [
        "model.load_state_dict(torch.load('my-model-1-d.pt'))\n",
        "\n",
        "test_loss = evaluate(model, test_iterator, criterion)\n",
        "\n",
        "print(f'| Test Loss: {test_loss:.3f}')"
      ]
    },
    {
      "cell_type": "markdown",
      "metadata": {
        "id": "Zd8FOK5CzuWL"
      },
      "source": [
        "### Inference and attention visualization"
      ]
    },
    {
      "cell_type": "code",
      "execution_count": 103,
      "metadata": {
        "id": "XkEKncbEzuWL"
      },
      "outputs": [],
      "source": [
        "def translate_sentence(sentence, src_field, trg_field, model, device, max_len = 50):\n",
        "\n",
        "    model.eval()\n",
        "\n",
        "    # TODO: write your code\n",
        "\n",
        "    if isinstance(sentence, str):\n",
        "        de_processor = spacy.load(\"de_core_news_sm\")\n",
        "        tokens = [token.text.lower() for token in de_processor(sentence)]\n",
        "    else:\n",
        "        tokens = [token.lower() for token in sentence]\n",
        "\n",
        "    tokens = [src_field.init_token] + tokens + [src_field.eos_token]\n",
        "    src_indices = [src_field.vocab.stoi[token] for token in tokens]\n",
        "    src_tensor = rearrange(torch.LongTensor(src_indices), \"i -> i 1\").to(device)\n",
        "\n",
        "    with torch.no_grad():\n",
        "        dec_init_state, hidden_and_cell = model.encoder(src_tensor)\n",
        "\n",
        "    trg_indices = [trg_field.vocab.stoi[trg_field.init_token]]\n",
        "    attentions = torch.zeros(max_len, 1, len(src_indices)).to(device)\n",
        "\n",
        "    for i in range(max_len):\n",
        "        trg_tensor = torch.LongTensor([trg_indices[-1]]).to(device)\n",
        "\n",
        "        with torch.no_grad():\n",
        "            output, hidden_and_cell, attention = model.decoder(trg_tensor, hidden_and_cell, dec_init_state)\n",
        "\n",
        "        attentions[i] = attention\n",
        "        pred_token = output.argmax(1).item()\n",
        "        trg_indices.append(pred_token)\n",
        "\n",
        "        if pred_token == trg_field.vocab.stoi[trg_field.eos_token]:\n",
        "            break\n",
        "\n",
        "    trg_tokens = [trg_field.vocab.itos[i] for i in trg_indices]\n",
        "    decoded_words = trg_tokens[1:]\n",
        "    decoder_attentions = rearrange(attentions[:len(trg_tokens)-1].detach().cpu(), \"m 1 n -> m n\")\n",
        "    return decoded_words, decoder_attentions"
      ]
    },
    {
      "cell_type": "code",
      "execution_count": 104,
      "metadata": {
        "id": "ilMrvGHVzuWL"
      },
      "outputs": [],
      "source": [
        "def display_attention(sentence, translation, attention):\n",
        "\n",
        "    # Set up figure with colorbar\n",
        "    fig = plt.figure(figsize=(15,25))\n",
        "\n",
        "    ax = fig.add_subplot(111)\n",
        "\n",
        "    cax = ax.matshow(attention.numpy(), cmap='bone')\n",
        "\n",
        "    # Set up axes\n",
        "    ax.tick_params(labelsize=12)\n",
        "    ax.set_xticklabels(['']+['<sos>']+[t.lower() for t in sentence]+['<eos>'],\n",
        "                           rotation=45)\n",
        "    ax.set_yticklabels(['']+translation)\n",
        "\n",
        "    # Show label at every tick\n",
        "    ax.xaxis.set_major_locator(ticker.MultipleLocator(1))\n",
        "    ax.yaxis.set_major_locator(ticker.MultipleLocator(1))\n",
        "\n",
        "    plt.show()\n",
        "    plt.close()\n",
        "\n"
      ]
    },
    {
      "cell_type": "code",
      "execution_count": 105,
      "metadata": {
        "colab": {
          "base_uri": "https://localhost:8080/"
        },
        "outputId": "c95d2c13-92ef-48a3-fbc6-098dc01894c8",
        "id": "x-BhB5VEzuWL"
      },
      "outputs": [
        {
          "output_type": "stream",
          "name": "stdout",
          "text": [
            "src = ['ein', 'brauner', 'hund', 'rennt', 'dem', 'schwarzen', 'hund', 'hinterher', '.']\n",
            "trg = ['a', 'brown', 'dog', 'is', 'running', 'after', 'the', 'black', 'dog', '.']\n"
          ]
        }
      ],
      "source": [
        "example_idx = 6\n",
        "\n",
        "src = vars(valid_data.examples[example_idx])['src']\n",
        "trg = vars(valid_data.examples[example_idx])['trg']\n",
        "\n",
        "print(f'src = {src}')\n",
        "print(f'trg = {trg}')"
      ]
    },
    {
      "cell_type": "code",
      "execution_count": 106,
      "metadata": {
        "colab": {
          "base_uri": "https://localhost:8080/"
        },
        "outputId": "35790837-a578-4a0c-fac4-f49cb99fac07",
        "id": "Tg6v-fZzzuWM"
      },
      "outputs": [
        {
          "output_type": "stream",
          "name": "stdout",
          "text": [
            "predicted trg = ['a', 'brown', 'dog', 'is', 'running', 'black', 'black', 'dog', '.', '<eos>']\n"
          ]
        }
      ],
      "source": [
        "translation, attention = translate_sentence(src, SRC, TRG, model, device)\n",
        "\n",
        "print(f'predicted trg = {translation}')"
      ]
    },
    {
      "cell_type": "code",
      "execution_count": 107,
      "metadata": {
        "colab": {
          "base_uri": "https://localhost:8080/",
          "height": 902
        },
        "outputId": "7aa89b90-e737-436e-83c3-dc31f1c263c3",
        "id": "2uFFgFr1zuWM"
      },
      "outputs": [
        {
          "output_type": "stream",
          "name": "stderr",
          "text": [
            "<ipython-input-104-32c513eaa5d2>:12: UserWarning: FixedFormatter should only be used together with FixedLocator\n",
            "  ax.set_xticklabels(['']+['<sos>']+[t.lower() for t in sentence]+['<eos>'],\n",
            "<ipython-input-104-32c513eaa5d2>:14: UserWarning: FixedFormatter should only be used together with FixedLocator\n",
            "  ax.set_yticklabels(['']+translation)\n"
          ]
        },
        {
          "output_type": "display_data",
          "data": {
            "text/plain": [
              "<Figure size 1500x2500 with 1 Axes>"
            ],
            "image/png": "[encoded data removed]"
          },
          "metadata": {}
        }
      ],
      "source": [
        "display_attention(src, translation, attention)"
      ]
    },
    {
      "cell_type": "markdown",
      "metadata": {
        "id": "PTFd4ognzuWM"
      },
      "source": [
        "### BLEU\n",
        "- Calculate BLEU for test set"
      ]
    },
    {
      "cell_type": "code",
      "execution_count": 108,
      "metadata": {
        "id": "ZfIWmIwYzuWM"
      },
      "outputs": [],
      "source": [
        "from torchtext.data.metrics import bleu_score\n",
        "\n",
        "def calculate_bleu(data, src_field, trg_field, model, device, max_len = 50):\n",
        "\n",
        "    trgs = []\n",
        "    pred_trgs = []\n",
        "\n",
        "    for datum in data:\n",
        "\n",
        "        src = vars(datum)['src']\n",
        "        trg = vars(datum)['trg']\n",
        "\n",
        "        pred_trg, _ = translate_sentence(src, src_field, trg_field, model, device, max_len)\n",
        "\n",
        "        #cut off <eos> token\n",
        "        pred_trg = pred_trg[:-1]\n",
        "\n",
        "        pred_trgs.append(pred_trg)\n",
        "        trgs.append([trg])\n",
        "\n",
        "    return bleu_score(pred_trgs, trgs)"
      ]
    },
    {
      "cell_type": "code",
      "execution_count": 109,
      "metadata": {
        "colab": {
          "base_uri": "https://localhost:8080/"
        },
        "id": "y5VfUfLnzuWM",
        "outputId": "2b8a430b-a416-4624-c67e-5d948f2208e8"
      },
      "outputs": [
        {
          "output_type": "stream",
          "name": "stdout",
          "text": [
            "BLEU score = 20.69\n"
          ]
        }
      ],
      "source": [
        "bleu_score = calculate_bleu(test_data, SRC, TRG, model, device)\n",
        "\n",
        "print(f'BLEU score = {bleu_score*100:.2f}')"
      ]
    },
    {
      "cell_type": "markdown",
      "metadata": {
        "id": "3HI4PDfOzuWM"
      },
      "source": [
        "# Using GloVe embedding"
      ]
    },
    {
      "cell_type": "code",
      "execution_count": null,
      "metadata": {
        "id": "Fy9YPtX1zuWN"
      },
      "outputs": [],
      "source": [
        "from torchtext.vocab import GloVe"
      ]
    },
    {
      "cell_type": "markdown",
      "metadata": {
        "id": "XrSWFglbzuWN"
      },
      "source": [
        "## build vocabulary with GloVe"
      ]
    },
    {
      "cell_type": "code",
      "source": [
        "glove_vectors = GloVe(name=\"6B\", dim=300)"
      ],
      "metadata": {
        "id": "NRrnM2_2I6Lu"
      },
      "execution_count": null,
      "outputs": []
    },
    {
      "cell_type": "code",
      "execution_count": null,
      "metadata": {
        "id": "MeChcyPRzuWN"
      },
      "outputs": [],
      "source": [
        "SRC.build_vocab(train_data, min_freq = 2, vectors = glove_vectors)\n",
        "TRG.build_vocab(train_data, min_freq = 2, vectors = glove_vectors)"
      ]
    },
    {
      "cell_type": "code",
      "execution_count": null,
      "metadata": {
        "id": "Vz7nELchzuWN"
      },
      "outputs": [],
      "source": [
        "print(f\"Unique tokens in source (de) vocabulary: {len(SRC.vocab)}\")\n",
        "print(f\"Unique tokens in target (en) vocabulary: {len(TRG.vocab)}\")"
      ]
    },
    {
      "cell_type": "code",
      "source": [
        "glove_vectors.vectors.shape"
      ],
      "metadata": {
        "id": "YoQoYUmfJ8yc"
      },
      "execution_count": null,
      "outputs": []
    },
    {
      "cell_type": "markdown",
      "metadata": {
        "id": "xQvnc5iozuWN"
      },
      "source": [
        "### Create the iterators\n",
        "- we use `BucketIterator` to pack tokens as a batch and convert tokens to indices."
      ]
    },
    {
      "cell_type": "code",
      "execution_count": 112,
      "metadata": {
        "id": "eHvrZ26zzuWN"
      },
      "outputs": [],
      "source": [
        "BATCH_SIZE = 128\n",
        "\n",
        "train_iterator, valid_iterator, test_iterator = BucketIterator.splits(\n",
        "    (train_data, valid_data, test_data),\n",
        "    batch_size = BATCH_SIZE,\n",
        "    device = device\n",
        ")"
      ]
    },
    {
      "cell_type": "markdown",
      "metadata": {
        "id": "JyygCRdmzuWN"
      },
      "source": [
        "## build the model"
      ]
    },
    {
      "cell_type": "markdown",
      "metadata": {
        "id": "K8mZ0RT1zuWN"
      },
      "source": [
        "### Encoder"
      ]
    },
    {
      "cell_type": "code",
      "execution_count": null,
      "metadata": {
        "id": "5SJAdQd3zuWO"
      },
      "outputs": [],
      "source": [
        "class Encoder(nn.Module):\n",
        "    def __init__(self, hidden_dim, num_layers, dropout):\n",
        "        super().__init__()\n",
        "\n",
        "        ## TODO: define your model here\n",
        "\n",
        "        self.hidden_dim = hidden_dim\n",
        "        self.num_layers = num_layers\n",
        "\n",
        "        embed_dim = glove_vectors.vectors.shape[1]\n",
        "\n",
        "        self.embedding = nn.Embedding.from_pretrained(glove_vectors.vectors, freeze=True) # input_dim, embed_dim\n",
        "        self.net = nn.GRU(embed_dim, hidden_dim, num_layers, bidirectional=True)\n",
        "        self.fc = nn.Linear(2*hidden_dim, hidden_dim)\n",
        "        self.dropout = nn.Dropout(dropout)\n",
        "\n",
        "    def forward(self, src):\n",
        "\n",
        "        ## TODO: write down the forward step\n",
        "        emb = self.dropout(self.embedding(src)) # (src_n, b, d)\n",
        "\n",
        "        output, hidden = self.net(emb) # (src_n, b, num_dir*h), (num_dir*num_layers, b, h)\n",
        "\n",
        "        hidden = torch.tanh(self.fc(torch.cat((hidden[-2, :, :], hidden[-1, :, :]), dim=1))) # (b, h)\n",
        "\n",
        "        return output, hidden"
      ]
    },
    {
      "cell_type": "markdown",
      "metadata": {
        "id": "WKCtUooSzuWO"
      },
      "source": [
        "### Decoder with additive attention"
      ]
    },
    {
      "cell_type": "code",
      "execution_count": null,
      "metadata": {
        "id": "PriGG7NDzuWO"
      },
      "outputs": [],
      "source": [
        "class Decoder(nn.Module):\n",
        "    def __init__(self, output_dim, hidden_dim, num_layers, dropout):\n",
        "        super().__init__()\n",
        "\n",
        "        ## TODO: define your model here\n",
        "\n",
        "        self.output_dim = output_dim\n",
        "        self.hidden_dim = hidden_dim\n",
        "        self.num_layers = num_layers\n",
        "\n",
        "        # for attention\n",
        "        self.attn = nn.Linear(hidden_dim*3, hidden_dim)\n",
        "        self.v = nn.Linear(hidden_dim, 1, bias=False)\n",
        "\n",
        "        embed_dim = glove_vectors.vectors.shape[1]\n",
        "\n",
        "        self.embedding = nn.Embedding.from_pretrained(glove_vectors.vectors, freeze=True) # input_dim, embed_dim\n",
        "        self.net = nn.GRU(hidden_dim*2+embed_dim, hidden_dim, num_layers)\n",
        "        self.fc_out = nn.Linear(hidden_dim*3+embed_dim, output_dim)\n",
        "        self.dropout = nn.Dropout(dropout)\n",
        "\n",
        "    def forward(self, input, hidden, dec_init_state):\n",
        "\n",
        "        ## TODO: write down the forward step\n",
        "\n",
        "        input = rearrange(input, \"b -> 1 b\") # (1, b)\n",
        "        emb = self.dropout(self.embedding(input)) # (1, b, d)\n",
        "        dec_state = dec_init_state\n",
        "\n",
        "        # basic dot-product attention\n",
        "        src_n, b, _ = dec_state.shape\n",
        "\n",
        "        if hidden.dim() == 3:\n",
        "            hidden = hidden[-1]\n",
        "        elif hidden.dim() == 2:\n",
        "            hidden = hidden\n",
        "        else:\n",
        "            raise ValueError()\n",
        "        h = repeat(hidden, \"b h -> b n h\", n=src_n) # (b, src_n, h)\n",
        "        dec_state = rearrange(dec_state, \"n b h -> b n h\") # (b, src_n, 2*h)\n",
        "\n",
        "        e = self.v(torch.tanh(self.attn(torch.cat((h, dec_state), dim=2)))) # (b, src_n, 1)\n",
        "        e = rearrange(e, \"b n 1 -> b n\")\n",
        "\n",
        "        attention = nn.functional.softmax(e, dim=1) # (b, src_n)\n",
        "        attention = rearrange(attention, \"b n -> b 1 n\")\n",
        "\n",
        "        context = torch.einsum(\"b t n, b n h -> b t h\", attention, dec_state) # (b, 1, 2*h)\n",
        "        context = rearrange(context, \"b t h -> t b h\") # (1, b, 2*h)\n",
        "\n",
        "        net_input = torch.cat((emb, context), dim=2) # (1, b, 2*h+d)\n",
        "        hidden = rearrange(hidden, \"b h -> 1 b h\") # (1, b, h)\n",
        "\n",
        "        net_output, hidden = self.net(net_input, hidden) # (num_layers, b, h), (num_layers, b, h)\n",
        "\n",
        "        emb = rearrange(emb, \"l b d -> (l b) d\") # (b, d)\n",
        "        net_output = rearrange(net_output, \"l b h -> (l b) h\") # (b, h)\n",
        "        context = rearrange(context, \"l b h -> (l b) h\") # (b, 2*h)\n",
        "\n",
        "        output = self.fc_out(torch.cat((net_output, context, emb), dim=1)) # (b, out_dim)\n",
        "        attention = rearrange(attention, \"b 1 n -> b n\")\n",
        "        return output, hidden, attention\n"
      ]
    },
    {
      "cell_type": "markdown",
      "metadata": {
        "id": "ptcRverhzuWO"
      },
      "source": [
        "### Sequence-to-sequence model"
      ]
    },
    {
      "cell_type": "code",
      "execution_count": null,
      "metadata": {
        "id": "cqoYmO84zuWO"
      },
      "outputs": [],
      "source": [
        "class Seq2Seq(nn.Module):\n",
        "    def __init__(self,\n",
        "                 encoder,\n",
        "                 decoder,\n",
        "                 src_pad_idx,\n",
        "                 trg_pad_idx,\n",
        "                 device):\n",
        "        super().__init__()\n",
        "\n",
        "        self.encoder = encoder\n",
        "        self.decoder = decoder\n",
        "        self.src_pad_idx = src_pad_idx\n",
        "        self.trg_pad_idx = trg_pad_idx\n",
        "        self.device = device\n",
        "\n",
        "\n",
        "    def forward(self, src, trg):\n",
        "\n",
        "        ## TODO: write down the forward step\n",
        "\n",
        "        b = src.shape[1]\n",
        "        trg_n = trg.shape[0]\n",
        "        trg_voc_size = self.decoder.output_dim\n",
        "\n",
        "        output = torch.zeros(trg_n, b, trg_voc_size).to(self.device)\n",
        "\n",
        "        dec_init_state, hidden = self.encoder(src) # hidden: hidden and cell if using LSTM\n",
        "\n",
        "        input = trg[0, :]\n",
        "        for t in range(1, trg_n):\n",
        "            dec_output, hidden, attention = self.decoder(input, hidden, dec_init_state)\n",
        "\n",
        "            output[t] = dec_output\n",
        "\n",
        "            top = dec_output.argmax(1)\n",
        "            input = top\n",
        "\n",
        "        return output, attention"
      ]
    },
    {
      "cell_type": "markdown",
      "metadata": {
        "id": "wtcpLPzazuWO"
      },
      "source": [
        "### Training the Seq2Seq Model"
      ]
    },
    {
      "cell_type": "code",
      "execution_count": null,
      "metadata": {
        "id": "VTFOXu1ozuWO"
      },
      "outputs": [],
      "source": [
        "INPUT_DIM = len(SRC.vocab)\n",
        "OUTPUT_DIM = len(TRG.vocab)\n",
        "# define your hyperparameters here\n",
        "HIDDEN_DIM = 512\n",
        "NUM_LAYERS = 1\n",
        "DROPOUT = 0.5\n",
        "\n",
        "enc = Encoder(HIDDEN_DIM, NUM_LAYERS, DROPOUT)\n",
        "dec = Decoder(OUTPUT_DIM, HIDDEN_DIM, NUM_LAYERS, DROPOUT)"
      ]
    },
    {
      "cell_type": "code",
      "execution_count": null,
      "metadata": {
        "id": "-dzRxzWJzuWO"
      },
      "outputs": [],
      "source": [
        "SRC_PAD_IDX = SRC.vocab.stoi[SRC.pad_token]\n",
        "TRG_PAD_IDX = TRG.vocab.stoi[TRG.pad_token]\n",
        "\n",
        "model = Seq2Seq(enc, dec, SRC_PAD_IDX, TRG_PAD_IDX, device).to(device)"
      ]
    },
    {
      "cell_type": "markdown",
      "metadata": {
        "id": "kiyZgEehzuWP"
      },
      "source": [
        "We initialize model weights"
      ]
    },
    {
      "cell_type": "code",
      "execution_count": 113,
      "metadata": {
        "id": "FaVKDBhWzuWP"
      },
      "outputs": [],
      "source": [
        "def initialize_weights(m):\n",
        "    if hasattr(m, 'weight') and m.weight.dim() > 1:\n",
        "        nn.init.xavier_uniform_(m.weight.data)\n",
        "\n",
        "model.apply(initialize_weights);"
      ]
    },
    {
      "cell_type": "markdown",
      "metadata": {
        "id": "kdulrG5vzuWP"
      },
      "source": [
        "We use Adam as our optimizer and CrossEntropyLoss. Also we set to ignore <pad> token in calculating loss"
      ]
    },
    {
      "cell_type": "code",
      "execution_count": 114,
      "metadata": {
        "id": "XGqFYtFMzuWP"
      },
      "outputs": [],
      "source": [
        "LEARNING_RATE = 0.0005\n",
        "\n",
        "optimizer = torch.optim.Adam(model.parameters(), lr = LEARNING_RATE)"
      ]
    },
    {
      "cell_type": "code",
      "execution_count": 115,
      "metadata": {
        "id": "fRZ4mt1YzuWP"
      },
      "outputs": [],
      "source": [
        "criterion = nn.CrossEntropyLoss(ignore_index = TRG_PAD_IDX)"
      ]
    },
    {
      "cell_type": "markdown",
      "metadata": {
        "id": "ycDDbyPszuWP"
      },
      "source": [
        "### Training"
      ]
    },
    {
      "cell_type": "code",
      "execution_count": 116,
      "metadata": {
        "id": "OOv6q6VNzuWP"
      },
      "outputs": [],
      "source": [
        "def train(model, iterator, optimizer, criterion):\n",
        "\n",
        "    model.train()\n",
        "\n",
        "    epoch_loss = 0\n",
        "\n",
        "    for i, batch in enumerate(iterator):\n",
        "\n",
        "        src = batch.src\n",
        "        trg = batch.trg\n",
        "\n",
        "        optimizer.zero_grad()\n",
        "\n",
        "        # TODO: write down your training code here\n",
        "\n",
        "        src = rearrange(src, \"b n -> n b\")\n",
        "        trg = rearrange(trg, \"b n -> n b\")\n",
        "        output, attention = model(src, trg)\n",
        "\n",
        "        output = rearrange(output[1:], \"n b d -> (n b) d\") # ((trg_n-1)*b, out_d)\n",
        "        trg = rearrange(trg[1:], \"n b -> (n b)\") # ((trg_n-1)*b)\n",
        "\n",
        "        loss = criterion(output, trg)\n",
        "\n",
        "        loss.backward()\n",
        "        optimizer.step()\n",
        "\n",
        "        epoch_loss += loss.item()\n",
        "\n",
        "    return epoch_loss / len(iterator)"
      ]
    },
    {
      "cell_type": "markdown",
      "metadata": {
        "id": "J0ZGq_n5zuWP"
      },
      "source": [
        "### Evaluation"
      ]
    },
    {
      "cell_type": "code",
      "execution_count": 117,
      "metadata": {
        "id": "v6dYEwtdzuWQ"
      },
      "outputs": [],
      "source": [
        "def evaluate(model, iterator, criterion):\n",
        "\n",
        "    model.eval()\n",
        "\n",
        "    epoch_loss = 0\n",
        "\n",
        "    with torch.no_grad():\n",
        "\n",
        "        for i, batch in enumerate(iterator):\n",
        "\n",
        "            src = batch.src\n",
        "            trg = batch.trg\n",
        "\n",
        "            # TODO: write down your training code here\n",
        "\n",
        "            src = rearrange(src, \"b n -> n b\")\n",
        "            trg = rearrange(trg, \"b n -> n b\")\n",
        "\n",
        "            output, attention = model(src, trg)\n",
        "\n",
        "            output = rearrange(output[1:], \"n b d -> (n b) d\") # ((trg_n-1)*b, out_d)\n",
        "            trg = rearrange(trg[1:], \"n b -> (n b)\") # ((trg_n-1)*b)\n",
        "\n",
        "            loss = criterion(output, trg)\n",
        "\n",
        "            epoch_loss += loss.item()\n",
        "\n",
        "    return epoch_loss / len(iterator)"
      ]
    },
    {
      "cell_type": "markdown",
      "metadata": {
        "id": "VZI59MMIzuWQ"
      },
      "source": [
        "### Train the model through multiple epochs"
      ]
    },
    {
      "cell_type": "code",
      "execution_count": 118,
      "metadata": {
        "colab": {
          "base_uri": "https://localhost:8080/"
        },
        "outputId": "48bcadda-b966-425b-d316-c8f76781cc48",
        "id": "jr_ftnM4zuWQ"
      },
      "outputs": [
        {
          "output_type": "stream",
          "name": "stdout",
          "text": [
            "Epoch: 01 | Time: 1m 33s\n",
            "\tTrain Loss: 5.001\n",
            "\t Val. Loss: 4.645\n",
            "Epoch: 02 | Time: 1m 31s\n",
            "\tTrain Loss: 4.361\n",
            "\t Val. Loss: 4.200\n",
            "Epoch: 03 | Time: 1m 30s\n",
            "\tTrain Loss: 3.952\n",
            "\t Val. Loss: 3.723\n",
            "Epoch: 04 | Time: 1m 30s\n",
            "\tTrain Loss: 3.603\n",
            "\t Val. Loss: 3.432\n",
            "Epoch: 05 | Time: 1m 29s\n",
            "\tTrain Loss: 3.334\n",
            "\t Val. Loss: 3.260\n",
            "Epoch: 06 | Time: 1m 30s\n",
            "\tTrain Loss: 3.115\n",
            "\t Val. Loss: 3.160\n",
            "Epoch: 07 | Time: 1m 29s\n",
            "\tTrain Loss: 2.925\n",
            "\t Val. Loss: 3.088\n",
            "Epoch: 08 | Time: 1m 29s\n",
            "\tTrain Loss: 2.757\n",
            "\t Val. Loss: 3.055\n",
            "Epoch: 09 | Time: 1m 29s\n",
            "\tTrain Loss: 2.603\n",
            "\t Val. Loss: 3.073\n",
            "Epoch: 10 | Time: 1m 29s\n",
            "\tTrain Loss: 2.459\n",
            "\t Val. Loss: 3.031\n"
          ]
        }
      ],
      "source": [
        "N_EPOCHS = 10\n",
        "\n",
        "best_valid_loss = float('inf')\n",
        "\n",
        "for epoch in range(N_EPOCHS):\n",
        "\n",
        "    start_time = time.time()\n",
        "\n",
        "    train_loss = train(model, train_iterator, optimizer, criterion)\n",
        "    valid_loss = evaluate(model, valid_iterator, criterion)\n",
        "\n",
        "    end_time = time.time()\n",
        "\n",
        "    epoch_mins, epoch_secs = epoch_time(start_time, end_time)\n",
        "\n",
        "    if valid_loss < best_valid_loss:\n",
        "        best_valid_loss = valid_loss\n",
        "        torch.save(model.state_dict(), 'my-model-1-e.pt')\n",
        "\n",
        "    print(f'Epoch: {epoch+1:02} | Time: {epoch_mins}m {epoch_secs}s')\n",
        "    print(f'\\tTrain Loss: {train_loss:.3f}')\n",
        "    print(f'\\t Val. Loss: {valid_loss:.3f}')"
      ]
    },
    {
      "cell_type": "code",
      "execution_count": 119,
      "metadata": {
        "id": "KZxAeN2DzuWQ",
        "colab": {
          "base_uri": "https://localhost:8080/"
        },
        "outputId": "d66ddd66-f2ae-460e-b213-825049da7f68"
      },
      "outputs": [
        {
          "output_type": "stream",
          "name": "stdout",
          "text": [
            "| Test Loss: 3.068\n"
          ]
        }
      ],
      "source": [
        "model.load_state_dict(torch.load('my-model-1-e.pt'))\n",
        "\n",
        "test_loss = evaluate(model, test_iterator, criterion)\n",
        "\n",
        "print(f'| Test Loss: {test_loss:.3f}')"
      ]
    },
    {
      "cell_type": "markdown",
      "metadata": {
        "id": "XpOfgKifzuWQ"
      },
      "source": [
        "### Inference and attention visualization"
      ]
    },
    {
      "cell_type": "code",
      "execution_count": 120,
      "metadata": {
        "id": "LYpCmq07zuWR"
      },
      "outputs": [],
      "source": [
        "def translate_sentence(sentence, src_field, trg_field, model, device, max_len = 50):\n",
        "\n",
        "    model.eval()\n",
        "\n",
        "    # TODO: write your code\n",
        "\n",
        "    if isinstance(sentence, str):\n",
        "        de_processor = spacy.load(\"de_core_news_sm\")\n",
        "        tokens = [token.text.lower() for token in de_processor(sentence)]\n",
        "    else:\n",
        "        tokens = [token.lower() for token in sentence]\n",
        "\n",
        "    tokens = [src_field.init_token] + tokens + [src_field.eos_token]\n",
        "    src_indices = [src_field.vocab.stoi[token] for token in tokens]\n",
        "    src_tensor = rearrange(torch.LongTensor(src_indices), \"i -> i 1\").to(device)\n",
        "\n",
        "    with torch.no_grad():\n",
        "        dec_init_state, hidden_and_cell = model.encoder(src_tensor)\n",
        "\n",
        "    trg_indices = [trg_field.vocab.stoi[trg_field.init_token]]\n",
        "    attentions = torch.zeros(max_len, 1, len(src_indices)).to(device)\n",
        "\n",
        "    for i in range(max_len):\n",
        "        trg_tensor = torch.LongTensor([trg_indices[-1]]).to(device)\n",
        "\n",
        "        with torch.no_grad():\n",
        "            output, hidden_and_cell, attention = model.decoder(trg_tensor, hidden_and_cell, dec_init_state)\n",
        "\n",
        "        attentions[i] = attention\n",
        "        pred_token = output.argmax(1).item()\n",
        "        trg_indices.append(pred_token)\n",
        "\n",
        "        if pred_token == trg_field.vocab.stoi[trg_field.eos_token]:\n",
        "            break\n",
        "\n",
        "    trg_tokens = [trg_field.vocab.itos[i] for i in trg_indices]\n",
        "    decoded_words = trg_tokens[1:]\n",
        "    decoder_attentions = rearrange(attentions[:len(trg_tokens)-1].detach().cpu(), \"m 1 n -> m n\")\n",
        "    return decoded_words, decoder_attentions"
      ]
    },
    {
      "cell_type": "code",
      "execution_count": 121,
      "metadata": {
        "id": "F3dj0_OazuWR"
      },
      "outputs": [],
      "source": [
        "def display_attention(sentence, translation, attention):\n",
        "\n",
        "    # Set up figure with colorbar\n",
        "    fig = plt.figure(figsize=(15,25))\n",
        "\n",
        "    ax = fig.add_subplot(111)\n",
        "\n",
        "    cax = ax.matshow(attention.numpy(), cmap='bone')\n",
        "\n",
        "    # Set up axes\n",
        "    ax.tick_params(labelsize=12)\n",
        "    ax.set_xticklabels(['']+['<sos>']+[t.lower() for t in sentence]+['<eos>'],\n",
        "                           rotation=45)\n",
        "    ax.set_yticklabels(['']+translation)\n",
        "\n",
        "    # Show label at every tick\n",
        "    ax.xaxis.set_major_locator(ticker.MultipleLocator(1))\n",
        "    ax.yaxis.set_major_locator(ticker.MultipleLocator(1))\n",
        "\n",
        "    plt.show()\n",
        "    plt.close()\n",
        "\n"
      ]
    },
    {
      "cell_type": "code",
      "execution_count": 122,
      "metadata": {
        "id": "_lw_ctw9zuWR",
        "colab": {
          "base_uri": "https://localhost:8080/"
        },
        "outputId": "4e8b1277-5b14-4163-c51e-55428c9f0a36"
      },
      "outputs": [
        {
          "output_type": "stream",
          "name": "stdout",
          "text": [
            "src = ['ein', 'brauner', 'hund', 'rennt', 'dem', 'schwarzen', 'hund', 'hinterher', '.']\n",
            "trg = ['a', 'brown', 'dog', 'is', 'running', 'after', 'the', 'black', 'dog', '.']\n"
          ]
        }
      ],
      "source": [
        "example_idx = 6\n",
        "\n",
        "src = vars(valid_data.examples[example_idx])['src']\n",
        "trg = vars(valid_data.examples[example_idx])['trg']\n",
        "\n",
        "print(f'src = {src}')\n",
        "print(f'trg = {trg}')"
      ]
    },
    {
      "cell_type": "code",
      "execution_count": 123,
      "metadata": {
        "id": "2jbBpkvRzuWR",
        "colab": {
          "base_uri": "https://localhost:8080/"
        },
        "outputId": "a3e806fc-47ef-4555-daeb-5e76ee3dcf09"
      },
      "outputs": [
        {
          "output_type": "stream",
          "name": "stdout",
          "text": [
            "predicted trg = ['a', 'brown', 'dog', 'is', 'running', 'black', 'black', 'dog', '.', '<eos>']\n"
          ]
        }
      ],
      "source": [
        "translation, attention = translate_sentence(src, SRC, TRG, model, device)\n",
        "\n",
        "print(f'predicted trg = {translation}')"
      ]
    },
    {
      "cell_type": "code",
      "execution_count": 124,
      "metadata": {
        "id": "k4xMSuwZzuWR",
        "colab": {
          "base_uri": "https://localhost:8080/",
          "height": 902
        },
        "outputId": "19634c46-1c02-4c3c-db8d-787848fbe3ad"
      },
      "outputs": [
        {
          "output_type": "stream",
          "name": "stderr",
          "text": [
            "<ipython-input-121-32c513eaa5d2>:12: UserWarning: FixedFormatter should only be used together with FixedLocator\n",
            "  ax.set_xticklabels(['']+['<sos>']+[t.lower() for t in sentence]+['<eos>'],\n",
            "<ipython-input-121-32c513eaa5d2>:14: UserWarning: FixedFormatter should only be used together with FixedLocator\n",
            "  ax.set_yticklabels(['']+translation)\n"
          ]
        },
        {
          "output_type": "display_data",
          "data": {
            "text/plain": [
              "<Figure size 1500x2500 with 1 Axes>"
            ],
            "image/png": "[encoded data removed]"
          },
          "metadata": {}
        }
      ],
      "source": [
        "display_attention(src, translation, attention)"
      ]
    },
    {
      "cell_type": "markdown",
      "metadata": {
        "id": "L2go2LbqzuWR"
      },
      "source": [
        "### BLEU\n",
        "- Calculate BLEU for test set"
      ]
    },
    {
      "cell_type": "code",
      "execution_count": 125,
      "metadata": {
        "id": "w42uqqHTzuWR"
      },
      "outputs": [],
      "source": [
        "from torchtext.data.metrics import bleu_score\n",
        "\n",
        "def calculate_bleu(data, src_field, trg_field, model, device, max_len = 50):\n",
        "\n",
        "    trgs = []\n",
        "    pred_trgs = []\n",
        "\n",
        "    for datum in data:\n",
        "\n",
        "        src = vars(datum)['src']\n",
        "        trg = vars(datum)['trg']\n",
        "\n",
        "        pred_trg, _ = translate_sentence(src, src_field, trg_field, model, device, max_len)\n",
        "\n",
        "        #cut off <eos> token\n",
        "        pred_trg = pred_trg[:-1]\n",
        "\n",
        "        pred_trgs.append(pred_trg)\n",
        "        trgs.append([trg])\n",
        "\n",
        "    return bleu_score(pred_trgs, trgs)"
      ]
    },
    {
      "cell_type": "code",
      "execution_count": 126,
      "metadata": {
        "id": "pCFYIov6zuWS",
        "colab": {
          "base_uri": "https://localhost:8080/"
        },
        "outputId": "bdc22cf4-12f7-45ad-c595-4d5c2a6a01a7"
      },
      "outputs": [
        {
          "output_type": "stream",
          "name": "stdout",
          "text": [
            "BLEU score = 19.58\n"
          ]
        }
      ],
      "source": [
        "bleu_score = calculate_bleu(test_data, SRC, TRG, model, device)\n",
        "\n",
        "print(f'BLEU score = {bleu_score*100:.2f}')"
      ]
    },
    {
      "cell_type": "code",
      "execution_count": null,
      "metadata": {
        "id": "lMqA9nZ8zuWS"
      },
      "outputs": [],
      "source": []
    }
  ],
  "metadata": {
    "accelerator": "GPU",
    "colab": {
      "gpuType": "T4",
      "provenance": [],
      "toc_visible": true
    },
    "kernelspec": {
      "display_name": "Python 3",
      "name": "python3"
    },
    "language_info": {
      "name": "python"
    }
  },
  "nbformat": 4,
  "nbformat_minor": 0
}